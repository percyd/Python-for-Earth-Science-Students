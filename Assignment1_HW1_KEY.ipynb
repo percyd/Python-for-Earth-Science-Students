{
 "cells": [
  {
   "cell_type": "markdown",
   "id": "085841e6",
   "metadata": {},
   "source": [
    "Assignment #1\n",
    "Create a jupyter notebook.\n",
    "Rename the notebook (under File menu) with the format YourLastname_FirstInitial_HW_01. For example, Cych_B__HW_01\n",
    "Save the notebook (click on the disk icon in the menu bar)\n",
    "Create a markdown block in which you will describe what the notebook does.\n",
    "Make a code block that creates a list called planets\n",
    "append all the planets to the list.\n",
    "make a deep copy of your planets list (with a different name).\n",
    "print the element at index 2 in your planets list.\n",
    "set the element at index 2 in your copy to 'X'\n",
    "print the element at index 2 in both lists (planets and your copy)\n",
    "append the element that you just changed to the end of your copy.\n",
    "use the help function to find out what the built-in function len() does.\n",
    "Make another code block that creates a list called, e.g., numList, using range( ) that has 8 values starting with 1.\n",
    "print out your new list\n",
    "Create a set from each of the three lists (planets, your copy of planets and your new list of numbers.\n",
    "Find the elements in common between the two planets lists planets and your copy.\n",
    "find the elements in common between planets and your new numbers list.\n",
    "Your notebook must have the correct name, be fully commented and run as expected to receive full credit."
   ]
  }
 ],
 "metadata": {
  "kernelspec": {
   "display_name": "Python 3 (ipykernel)",
   "language": "python",
   "name": "python3"
  },
  "language_info": {
   "codemirror_mode": {
    "name": "ipython",
    "version": 3
   },
   "file_extension": ".py",
   "mimetype": "text/x-python",
   "name": "python",
   "nbconvert_exporter": "python",
   "pygments_lexer": "ipython3",
   "version": "3.9.7"
  }
 },
 "nbformat": 4,
 "nbformat_minor": 5
}
