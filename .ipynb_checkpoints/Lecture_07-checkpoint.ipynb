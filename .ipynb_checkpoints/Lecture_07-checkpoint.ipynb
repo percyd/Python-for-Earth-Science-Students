{
 "cells": [
  {
   "cell_type": "markdown",
   "metadata": {},
   "source": [
    "Now we know what these modules are, let's just import them now.  We will be adding to this \"essential modules\" list as we go through the course."
   ]
  },
  {
   "cell_type": "code",
   "execution_count": 1,
   "metadata": {
    "ExecuteTime": {
     "end_time": "2020-03-11T01:38:13.070076Z",
     "start_time": "2020-03-11T01:38:11.603428Z"
    }
   },
   "outputs": [],
   "source": [
    "import numpy as np\n",
    "import matplotlib.pyplot as plt \n",
    "%matplotlib inline \n",
    "from IPython.display import Image # just ignore this one for now....  next lecture, you will learn about it.\n",
    "import os"
   ]
  },
  {
   "cell_type": "markdown",
   "metadata": {},
   "source": [
    "### Lecture 7:\n",
    "\n",
    "- Learn more about **NumPy** and **matplotlib**\n",
    "- Learn more about **NumPy** arrays.  \n",
    " \n",
    "\n"
   ]
  },
  {
   "cell_type": "markdown",
   "metadata": {
    "collapsed": true
   },
   "source": [
    "\n",
    "### NumPy and N-dimensional arrays\n",
    "\n",
    "We briefly mentioned **arrays** in the last lecture but quickly moved into plotting (because that is more fun). But **arrays** are essential to our computational happiness, so we need to bite the bullet and learn about them now. \n",
    "\n",
    "**Arrays**  in **Numpy**  are somewhat  similar to  lists but there are important differences with advantages and disadvantages.\n",
    "Unlike lists,   **arrays** are usually all of the same data type (**dtype**), usually numbers (integers or floats) and at times characters.  A \"feature\" of arrays is that the size,  shape and type are fixed when it's created. \n",
    "\n",
    "Remember, we can define a list:\n",
    "\n",
    "L=\\[ \\]\n",
    "\n",
    "then append to it as desired using the **L.append( )** method. It is more complicated (but still possible) to **extend**   arrays. \n",
    "\n",
    "Why use arrays when you can use lists?  Arrays are far more computationally efficient than lists, particularly for things like matrix math.  You can perform calculations on the entire array in one go instead of looping through element by element as for lists.  \n",
    "\n",
    "To make things a little confusing, there are  several different data objects that are loosely called arrays, e.g., arrays, character arrays and matrices.  These are all subclasses of **ndarray** (N-dimensional array).  We will just worry about **arrays** in this course.  \n",
    "\n",
    "Apart from reading in a data file with **NumPy**, as we did in the last lecture, there are many different ways of creating arrays.  Here are a few examples:"
   ]
  },
  {
   "cell_type": "code",
   "execution_count": 2,
   "metadata": {},
   "outputs": [
    {
     "name": "stdout",
     "output_type": "stream",
     "text": [
      "[[1 2 3]\n",
      " [4 2 0]\n",
      " [1 1 2]]\n"
     ]
    }
   ],
   "source": [
    "# define the values with the function array( ). For example a 3x3 array\n",
    "A= np.array([[1, 2, 3],[4,2,0],[1,1,2]])\n",
    "print (A)\n",
    "\n",
    "# notice how there are no commas in arrays  "
   ]
  },
  {
   "cell_type": "markdown",
   "metadata": {},
   "source": [
    "As we learned in the last lecture, **NumPy** can also generate an array using the **np.arange( )** function which works in a manner similar to **range( )** but creates an array with floats or integers.  **range( )** makes a list generator.  \n",
    "\n",
    "This is just a reminder from Lecture 6:"
   ]
  },
  {
   "cell_type": "code",
   "execution_count": 3,
   "metadata": {},
   "outputs": [
    {
     "name": "stdout",
     "output_type": "stream",
     "text": [
      "List made by 'range':  [0, 1, 2, 3, 4, 5, 6, 7, 8, 9]\n",
      "Array made by np.arange( ):  [0 1 2 3 4 5 6 7 8 9]\n",
      "Array with real numbers: \n",
      " [0.  0.2 0.4 0.6 0.8 1.  1.2 1.4 1.6 1.8 2.  2.2 2.4 2.6 2.8 3.  3.2 3.4\n",
      " 3.6 3.8 4.  4.2 4.4 4.6 4.8 5.  5.2 5.4 5.6 5.8 6.  6.2 6.4 6.6 6.8 7.\n",
      " 7.2 7.4 7.6 7.8 8.  8.2 8.4 8.6 8.8 9.  9.2 9.4 9.6 9.8]\n"
     ]
    }
   ],
   "source": [
    "# use list(range( )) to generate a one-dimensional (1D) list that ranges \n",
    "# from the first arguement up to (but not including) the second, that\n",
    "# increments by the third:\n",
    "#we learned that range( ) creates a list generator for integers\n",
    "B=list(range(10)) \n",
    "print (\"List made by 'range': \",B)\n",
    "B_integers=np.arange(0,10,1) #arange( ) is an np function that creates an array of integers\n",
    "print (\"Array made by np.arange( ): \", B_integers)\n",
    "B_real=np.arange(0,10,.2) #  and with floats\n",
    "print (\"Array with real numbers: \\n\",B_real) # notice the \"\\n\"? that creates a new line in the text string?\n",
    "# Notice that while \"range\" makes a list of integers, arange makes an array of integers \n",
    "#   or real numbers.  "
   ]
  },
  {
   "cell_type": "markdown",
   "metadata": {},
   "source": [
    "There are several ways to create special arrays, for example, arrays initialized by zeroes, ones, or any other value: "
   ]
  },
  {
   "cell_type": "code",
   "execution_count": 4,
   "metadata": {},
   "outputs": [
    {
     "name": "stdout",
     "output_type": "stream",
     "text": [
      "[[0. 0. 0.]\n",
      " [0. 0. 0.]]\n"
     ]
    }
   ],
   "source": [
    "D=np.zeros((2,3)) # Notice the size is specified by a tuple of numbers of rows and columns.\n",
    "print (D)\n",
    "\n"
   ]
  },
  {
   "cell_type": "code",
   "execution_count": 5,
   "metadata": {},
   "outputs": [
    {
     "name": "stdout",
     "output_type": "stream",
     "text": [
      "[[1. 1. 1.]\n",
      " [1. 1. 1.]]\n"
     ]
    }
   ],
   "source": [
    "E=np.ones((2,3))\n",
    "print (E)\n"
   ]
  },
  {
   "cell_type": "markdown",
   "metadata": {},
   "source": [
    "To get any other value, just multiply your \"ones\" array by whatever number you want:"
   ]
  },
  {
   "cell_type": "code",
   "execution_count": 6,
   "metadata": {},
   "outputs": [
    {
     "name": "stdout",
     "output_type": "stream",
     "text": [
      "[[42. 42. 42.]\n",
      " [42. 42. 42.]]\n"
     ]
    }
   ],
   "source": [
    "print (E*42)"
   ]
  },
  {
   "cell_type": "markdown",
   "metadata": {},
   "source": [
    "As you might have guessed, **np.arange(start, end, step)** generates numbers between two endpoints (**start** and up to but not including **end**) that are spaced by **step**. \n",
    "\n",
    "At times, it is useful to have __N__ numbers equally spaced between two endpoints. For this, we use the function **np.linspace(start,end,N)** which generates an array starting with **start**, going up to (and including!)  **end** with $N$ linearly spaced elements:  "
   ]
  },
  {
   "cell_type": "code",
   "execution_count": 7,
   "metadata": {},
   "outputs": [
    {
     "name": "stdout",
     "output_type": "stream",
     "text": [
      "[ 0.          0.76923077  1.53846154  2.30769231  3.07692308  3.84615385\n",
      "  4.61538462  5.38461538  6.15384615  6.92307692  7.69230769  8.46153846\n",
      "  9.23076923 10.        ]\n",
      "14\n"
     ]
    }
   ],
   "source": [
    "F=np.linspace(0,10,14) # give me 14 numbers from 0 to 10, including 0 and 10.\n",
    "print  (F)\n",
    "print (len(F))\n"
   ]
  },
  {
   "cell_type": "markdown",
   "metadata": {},
   "source": [
    "To summarize: \n",
    "\n",
    "**np.linspace( )** creates an array with $N$ evenly spaced elements starting at **start** and including the **end** value,\n",
    "while **np.arange( )** creates an array with elements at **step** intervals between  **start** up to but NOT including the  **end** value.  "
   ]
  },
  {
   "cell_type": "markdown",
   "metadata": {},
   "source": [
    "Another trick for creating arrays, is to use the **np.loadtxt( )** function, which you encountered in Lecture 6.   It reads  a data file into an array.   This example uses a 'pathname' which we  learned about in Lecture 1. "
   ]
  },
  {
   "cell_type": "code",
   "execution_count": 8,
   "metadata": {},
   "outputs": [
    {
     "name": "stdout",
     "output_type": "stream",
     "text": [
      "[[  66.07 -149.03]\n",
      " [  38.83 -122.8 ]\n",
      " [  32.92 -115.47]\n",
      " [  47.63 -122.51]\n",
      " [  60.97 -151.24]\n",
      " [  37.65 -118.85]\n",
      " [  53.2  -161.3 ]\n",
      " [  19.41 -155.28]\n",
      " [  38.84 -122.83]\n",
      " [  36.88  -89.12]]\n"
     ]
    }
   ],
   "source": [
    "newarray=np.loadtxt('Datasets/RecentEarthquakes/earthquakeLocations.txt')\n",
    "print (newarray)"
   ]
  },
  {
   "cell_type": "markdown",
   "metadata": {},
   "source": [
    "### A few words about array types\n",
    "\n",
    "In the last example, **NumPy** figured out what array type was required - it decided to make  a floating point array without our having to specify the type.  But what if we wanted an integer array with numbers from 0. to 9. instead?  \n",
    "\n",
    "There are a few solutions to this.  First, we could use integers in the **np.arange( )** call:"
   ]
  },
  {
   "cell_type": "code",
   "execution_count": 9,
   "metadata": {},
   "outputs": [
    {
     "data": {
      "text/plain": [
       "array([0., 1., 2., 3., 4., 5., 6., 7., 8., 9.])"
      ]
     },
     "execution_count": 9,
     "metadata": {},
     "output_type": "execute_result"
    }
   ],
   "source": [
    "np.arange(0.,10,1)"
   ]
  },
  {
   "cell_type": "markdown",
   "metadata": {},
   "source": [
    "Or, we could specify the array type with the _dtype_ argument, where _dtype_ can be _int_, _float_, _str_, among others. "
   ]
  },
  {
   "cell_type": "code",
   "execution_count": 10,
   "metadata": {},
   "outputs": [
    {
     "name": "stdout",
     "output_type": "stream",
     "text": [
      "[0. 1. 2. 3. 4. 5. 6. 7. 8. 9.]\n",
      "[0 1 2 3 4 5 6 7 8 9]\n"
     ]
    }
   ],
   "source": [
    "print (np.arange(0,10,1,dtype='float'))\n",
    "print (np.arange(0,10,1,dtype='int'))"
   ]
  },
  {
   "cell_type": "markdown",
   "metadata": {},
   "source": [
    "So, what is an _object_ array?  That would be an array that allows different data types:\n"
   ]
  },
  {
   "cell_type": "code",
   "execution_count": 11,
   "metadata": {},
   "outputs": [
    {
     "data": {
      "text/plain": [
       "array([[1, 2, 3],\n",
       "       [4, 2, 0],\n",
       "       ['Xiao Long', 'Jill', 'Jose']], dtype=object)"
      ]
     },
     "execution_count": 11,
     "metadata": {},
     "output_type": "execute_result"
    }
   ],
   "source": [
    "np.array([[1, 2, 3],[4,2,0],['Xiao Long','Jill','Jose']],dtype='object')"
   ]
  },
  {
   "cell_type": "markdown",
   "metadata": {},
   "source": [
    "But object arrays have their own limitations, e.g., you can't multiply the array by anything.  "
   ]
  },
  {
   "cell_type": "markdown",
   "metadata": {},
   "source": [
    "So, what happens if we define an array without initializing it?   Let's make a 2x2 array of the **dtype** _float_.  "
   ]
  },
  {
   "cell_type": "code",
   "execution_count": 12,
   "metadata": {
    "scrolled": true
   },
   "outputs": [
    {
     "name": "stdout",
     "output_type": "stream",
     "text": [
      "[[5.e-324 5.e-324]\n",
      " [5.e-324 0.e+000]]\n"
     ]
    }
   ],
   "source": [
    "G=np.ndarray(shape=(2,2), dtype=float) \n",
    "print  (G)   "
   ]
  },
  {
   "cell_type": "markdown",
   "metadata": {},
   "source": [
    "So... the array was initialized with teeny tiny numbers but not necessarily zeros.  "
   ]
  },
  {
   "cell_type": "markdown",
   "metadata": {},
   "source": [
    "### Array attributes\n",
    "\n",
    "Like other Python objects we have already encountered, arrays also have _attributes_ and _methods_. As before,  _attributes_ do not have parentheses while _methods_ do.  \n",
    "\n",
    "We will start by looking at array _attributes_  which report on the state of the array. \n",
    "\n",
    "As an  example of the use of an _attribute_, we can find out what the data type of an array is with the _attribute_  **array.dtype**:   \n"
   ]
  },
  {
   "cell_type": "code",
   "execution_count": 13,
   "metadata": {},
   "outputs": [
    {
     "data": {
      "text/plain": [
       "dtype('float64')"
      ]
     },
     "execution_count": 13,
     "metadata": {},
     "output_type": "execute_result"
    }
   ],
   "source": [
    "D.dtype"
   ]
  },
  {
   "cell_type": "markdown",
   "metadata": {},
   "source": [
    "As you may have already figured out, arrays have dimensions and shape. Dimensions define the number of axes, as in the illustration below. \n",
    "\n",
    "Rember our first array, $A$?  It  had two dimensions (axis 0 and 1).   We can use the attribute **ndim** to find find this out:\n",
    "   \n",
    "\n"
   ]
  },
  {
   "cell_type": "code",
   "execution_count": 14,
   "metadata": {},
   "outputs": [
    {
     "data": {
      "image/jpeg": "[encoded data removed]",
      "text/plain": [
       "<IPython.core.display.Image object>"
      ]
     },
     "execution_count": 14,
     "metadata": {},
     "output_type": "execute_result"
    }
   ],
   "source": [
    "Image(filename='Figures/ndim.jpg') # just ignore this - i just want to show you the pretty picture.\n"
   ]
  },
  {
   "cell_type": "code",
   "execution_count": 15,
   "metadata": {},
   "outputs": [
    {
     "name": "stdout",
     "output_type": "stream",
     "text": [
      "the dimensions of A are:  2\n"
     ]
    }
   ],
   "source": [
    "A= np.array([[1,2,3],[4,2,0],[1,1,2]]) # just to remind you\n",
    "print (\"the dimensions of A are: \",A.ndim)"
   ]
  },
  {
   "cell_type": "markdown",
   "metadata": {},
   "source": [
    "\n",
    "Notice how **np.zeros( )**, **np.ones( )** and **np.ndarray( )** used a shape tuple in order to define the arrays in the examples above.   The shape of an array tells us how many elements are along each axis.  Python returns a tuple with the shape information if we use the **shape** _attribute_:  \n",
    "\n"
   ]
  },
  {
   "cell_type": "code",
   "execution_count": 16,
   "metadata": {},
   "outputs": [
    {
     "data": {
      "text/plain": [
       "(3, 3)"
      ]
     },
     "execution_count": 16,
     "metadata": {},
     "output_type": "execute_result"
    }
   ],
   "source": [
    "A.shape"
   ]
  },
  {
   "cell_type": "markdown",
   "metadata": {},
   "source": [
    "### Array methods\n",
    "\n",
    "Arrays, like lists,   have a bunch of _methods_, but the _methods_ are different than the  _methods_ we learned about for lists.  For example, you can **append** to an array, but the results may surprise you. \n",
    "\n"
   ]
  },
  {
   "cell_type": "code",
   "execution_count": 17,
   "metadata": {},
   "outputs": [
    {
     "name": "stdout",
     "output_type": "stream",
     "text": [
      "D: \n",
      " [[0. 0. 0.]\n",
      " [0. 0. 0.]]\n",
      "\n",
      "\n",
      "D after append: \n",
      " [0. 0. 0. 0. 0. 0. 2. 2. 2.]\n"
     ]
    }
   ],
   "source": [
    "print ('D: \\n',D)\n",
    "print ('\\n')\n",
    "print ('D after append: \\n',np.append(D,[2,2,2]))"
   ]
  },
  {
   "cell_type": "markdown",
   "metadata": {},
   "source": [
    "See how we now have a 1-D array?  Not exactly what you expected?  We can deal with that problem by reshaping the array, as we shall see.  But first, you can also **concatenate** arrays which may be a simpler way to extend your array: "
   ]
  },
  {
   "cell_type": "code",
   "execution_count": 18,
   "metadata": {
    "scrolled": true
   },
   "outputs": [
    {
     "name": "stdout",
     "output_type": "stream",
     "text": [
      "[[0. 0. 0.]\n",
      " [0. 0. 0.]\n",
      " [1. 1. 1.]\n",
      " [1. 1. 1.]]\n"
     ]
    }
   ],
   "source": [
    "print (np.concatenate((D,E)))"
   ]
  },
  {
   "cell_type": "markdown",
   "metadata": {},
   "source": [
    "To solve the shape problem (2D versus 1D), you can  re-arrange a 1D array into a 2D array (as long as the total number of elements is the same).   To do that, we use the **array.reshape( )** _method_:"
   ]
  },
  {
   "cell_type": "code",
   "execution_count": 19,
   "metadata": {
    "scrolled": true
   },
   "outputs": [
    {
     "name": "stdout",
     "output_type": "stream",
     "text": [
      "B_real: \n",
      " [0.  0.2 0.4 0.6 0.8 1.  1.2 1.4 1.6 1.8 2.  2.2 2.4 2.6 2.8 3.  3.2 3.4\n",
      " 3.6 3.8 4.  4.2 4.4 4.6 4.8 5.  5.2 5.4 5.6 5.8 6.  6.2 6.4 6.6 6.8 7.\n",
      " 7.2 7.4 7.6 7.8 8.  8.2 8.4 8.6 8.8 9.  9.2 9.4 9.6 9.8]\n",
      "\n",
      " B_real after reshaping: \n",
      " [[0.  0.2 0.4 0.6 0.8 1.  1.2 1.4 1.6 1.8]\n",
      " [2.  2.2 2.4 2.6 2.8 3.  3.2 3.4 3.6 3.8]\n",
      " [4.  4.2 4.4 4.6 4.8 5.  5.2 5.4 5.6 5.8]\n",
      " [6.  6.2 6.4 6.6 6.8 7.  7.2 7.4 7.6 7.8]\n",
      " [8.  8.2 8.4 8.6 8.8 9.  9.2 9.4 9.6 9.8]]\n"
     ]
    }
   ],
   "source": [
    "# we can take a 1D array with 50 elements and reshape it into, say a 5 X 10 2-D array:\n",
    "B_real_2D=B_real.reshape((5,10))\n",
    "print ('B_real: \\n',B_real)\n",
    "print ('\\n B_real after reshaping: \\n',B_real_2D)\n"
   ]
  },
  {
   "cell_type": "markdown",
   "metadata": {},
   "source": [
    "You can go the other way, by taking a 2D (or more) array and turning it into one long 1D array using **array.flatten( )**.  "
   ]
  },
  {
   "cell_type": "code",
   "execution_count": 20,
   "metadata": {},
   "outputs": [
    {
     "name": "stdout",
     "output_type": "stream",
     "text": [
      "[0.  0.2 0.4 0.6 0.8 1.  1.2 1.4 1.6 1.8 2.  2.2 2.4 2.6 2.8 3.  3.2 3.4\n",
      " 3.6 3.8 4.  4.2 4.4 4.6 4.8 5.  5.2 5.4 5.6 5.8 6.  6.2 6.4 6.6 6.8 7.\n",
      " 7.2 7.4 7.6 7.8 8.  8.2 8.4 8.6 8.8 9.  9.2 9.4 9.6 9.8]\n"
     ]
    }
   ],
   "source": [
    "B_real_1D=B_real_2D.flatten()\n",
    "print (B_real_1D)"
   ]
  },
  {
   "cell_type": "markdown",
   "metadata": {},
   "source": [
    "Another super useful array method is **array.transpose( )** \\[equivalent to **array.T( )**\\] which swaps rows and columns:"
   ]
  },
  {
   "cell_type": "code",
   "execution_count": 21,
   "metadata": {},
   "outputs": [
    {
     "name": "stdout",
     "output_type": "stream",
     "text": [
      "B_real_2D: \n",
      " [[0.  0.2 0.4 0.6 0.8 1.  1.2 1.4 1.6 1.8]\n",
      " [2.  2.2 2.4 2.6 2.8 3.  3.2 3.4 3.6 3.8]\n",
      " [4.  4.2 4.4 4.6 4.8 5.  5.2 5.4 5.6 5.8]\n",
      " [6.  6.2 6.4 6.6 6.8 7.  7.2 7.4 7.6 7.8]\n",
      " [8.  8.2 8.4 8.6 8.8 9.  9.2 9.4 9.6 9.8]]\n",
      "\n",
      " B_real_2D transposed: \n",
      " [[0.  2.  4.  6.  8. ]\n",
      " [0.2 2.2 4.2 6.2 8.2]\n",
      " [0.4 2.4 4.4 6.4 8.4]\n",
      " [0.6 2.6 4.6 6.6 8.6]\n",
      " [0.8 2.8 4.8 6.8 8.8]\n",
      " [1.  3.  5.  7.  9. ]\n",
      " [1.2 3.2 5.2 7.2 9.2]\n",
      " [1.4 3.4 5.4 7.4 9.4]\n",
      " [1.6 3.6 5.6 7.6 9.6]\n",
      " [1.8 3.8 5.8 7.8 9.8]]\n"
     ]
    }
   ],
   "source": [
    "print ('B_real_2D: \\n',B_real_2D)\n",
    "print ('\\n B_real_2D transposed: \\n',B_real_2D.transpose())\n"
   ]
  },
  {
   "cell_type": "markdown",
   "metadata": {},
   "source": [
    "### Slicing and indexing ndarrays \n",
    "\n",
    "The syntax for slicing an array is similar to that for a list:  "
   ]
  },
  {
   "cell_type": "code",
   "execution_count": 22,
   "metadata": {},
   "outputs": [
    {
     "name": "stdout",
     "output_type": "stream",
     "text": [
      "[[1 2 3]\n",
      " [4 2 0]]\n"
     ]
    }
   ],
   "source": [
    "B=A[0:2] # access the top two lines  of matrix A \n",
    "print (B)"
   ]
  },
  {
   "cell_type": "markdown",
   "metadata": {},
   "source": [
    "### Masking Arrays\n",
    "\n",
    "We can also 'mask' arrays. This is a handy thing a bit like doing an **if** statement for an array. For example, we could make an array of numbers,  say, times, between 0 and 10 minutes and then search just for the times greater than 5 minutes."
   ]
  },
  {
   "cell_type": "code",
   "execution_count": 23,
   "metadata": {
    "ExecuteTime": {
     "end_time": "2020-03-11T01:42:51.363862Z",
     "start_time": "2020-03-11T01:42:51.345503Z"
    }
   },
   "outputs": [
    {
     "name": "stdout",
     "output_type": "stream",
     "text": [
      "[ 6.  7.  8.  9. 10.]\n"
     ]
    }
   ],
   "source": [
    "time=np.linspace(0,10,11)\n",
    "lateTime=time[time>5]\n",
    "print(lateTime)"
   ]
  },
  {
   "cell_type": "markdown",
   "metadata": {},
   "source": [
    "If two arrays are the same shape, we can use one array to mask another array. For example, we could make an array of distances traveled at a constant speed of 20 miles per hour, and mask to show only the distances for the last 5 minutes."
   ]
  },
  {
   "cell_type": "code",
   "execution_count": 24,
   "metadata": {
    "ExecuteTime": {
     "end_time": "2020-03-11T01:45:53.159150Z",
     "start_time": "2020-03-11T01:45:53.152847Z"
    }
   },
   "outputs": [
    {
     "name": "stdout",
     "output_type": "stream",
     "text": [
      "[2.         2.33333333 2.66666667 3.         3.33333333]\n"
     ]
    }
   ],
   "source": [
    "distance=time/3\n",
    "lateDistance=distance[time>5]\n",
    "print(lateDistance)"
   ]
  },
  {
   "cell_type": "markdown",
   "metadata": {},
   "source": [
    "How does this work? We can peek into this by looking at the result when we print (time>5). It turns out that this creates an array of True and False which tells the program what elements of the array to choose."
   ]
  },
  {
   "cell_type": "code",
   "execution_count": 25,
   "metadata": {
    "ExecuteTime": {
     "end_time": "2020-03-11T01:48:53.391190Z",
     "start_time": "2020-03-11T01:48:53.384706Z"
    }
   },
   "outputs": [
    {
     "name": "stdout",
     "output_type": "stream",
     "text": [
      "[False False False False False False  True  True  True  True  True]\n"
     ]
    }
   ],
   "source": [
    "boolTime=time>5\n",
    "print(boolTime)"
   ]
  },
  {
   "cell_type": "markdown",
   "metadata": {},
   "source": [
    "\n",
    "\n",
    "For many more methods and attributes of ndarrays, visit the NumPy Reference website:  http://docs.scipy.org/doc/numpy/reference/.   \n"
   ]
  },
  {
   "cell_type": "markdown",
   "metadata": {},
   "source": [
    "### Converting between Data Structures\n",
    "\n",
    "We can convert from an array to a list:"
   ]
  },
  {
   "cell_type": "code",
   "execution_count": 26,
   "metadata": {},
   "outputs": [
    {
     "name": "stdout",
     "output_type": "stream",
     "text": [
      "Original array: \t <class 'numpy.ndarray'>\n",
      "List form: \t\t <class 'list'>\n",
      "[[1 2 3]\n",
      " [4 2 0]\n",
      " [1 1 2]]\n",
      "[[1, 2, 3], [4, 2, 0], [1, 1, 2]]\n"
     ]
    }
   ],
   "source": [
    "L=A.tolist()\n",
    "print (\"Original array: \\t\", type(A)) # the '\\t' inserts a tab\n",
    "print (\"List form: \\t\\t\", type(L))\n",
    "print (A)\n",
    "print (L)\n",
    "\n",
    "# notice the commas, the array turned into  a list of three lists"
   ]
  },
  {
   "cell_type": "markdown",
   "metadata": {},
   "source": [
    "From a list to an array:"
   ]
  },
  {
   "cell_type": "code",
   "execution_count": 27,
   "metadata": {},
   "outputs": [
    {
     "name": "stdout",
     "output_type": "stream",
     "text": [
      "AfromL: \n",
      "[[1 2 3]\n",
      " [4 2 0]\n",
      " [1 1 2]]\n"
     ]
    }
   ],
   "source": [
    "AfromL=np.array(L)# from a list\n",
    "print ('AfromL: ')\n",
    "print (AfromL)\n",
    "\n"
   ]
  },
  {
   "cell_type": "markdown",
   "metadata": {},
   "source": [
    "Or from a tuple to an array:\n"
   ]
  },
  {
   "cell_type": "code",
   "execution_count": 28,
   "metadata": {},
   "outputs": [
    {
     "name": "stdout",
     "output_type": "stream",
     "text": [
      "AfromT: \n",
      "[4 2]\n"
     ]
    }
   ],
   "source": [
    "AfromT=np.array((4,2)) # from a tuple \n",
    "print ('AfromT: ')\n",
    "print (AfromT)"
   ]
  },
  {
   "cell_type": "markdown",
   "metadata": {},
   "source": [
    "### Saving NumPy arrays as text files\n",
    "\n",
    "Having created, sliced and diced an array, it is often handy to save the data to a file for later use.  We can do that with the command **np.savetxt( )**.  \n",
    "\n",
    "Let's save our **A** array to a file called _A.txt_."
   ]
  },
  {
   "cell_type": "code",
   "execution_count": 35,
   "metadata": {},
   "outputs": [],
   "source": [
    "np.savetxt('A.txt',A)"
   ]
  },
  {
   "cell_type": "code",
   "execution_count": 36,
   "metadata": {},
   "outputs": [],
   "source": [
    "#and clean up\n",
    "os.remove('A.txt')"
   ]
  }
 ],
 "metadata": {
  "kernelspec": {
   "display_name": "Python 3 (ipykernel)",
   "language": "python",
   "name": "python3"
  },
  "language_info": {
   "codemirror_mode": {
    "name": "ipython",
    "version": 3
   },
   "file_extension": ".py",
   "mimetype": "text/x-python",
   "name": "python",
   "nbconvert_exporter": "python",
   "pygments_lexer": "ipython3",
   "version": "3.9.7"
  }
 },
 "nbformat": 4,
 "nbformat_minor": 1
}
