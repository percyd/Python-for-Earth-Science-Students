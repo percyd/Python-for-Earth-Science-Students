{
 "cells": [
  {
   "cell_type": "markdown",
   "metadata": {},
   "source": [
    "### Lecture 4:\n",
    "\n",
    "- Learn more about another useful data structure, **dictionaries** and some of their **methods**\n",
    "\n",
    "- Introduce special Python code blocks\n",
    "\n",
    "- Learn about \"for\" loops, \"while\" loops and \"if\" blocks"
   ]
  },
  {
   "cell_type": "markdown",
   "metadata": {},
   "source": [
    "## Dictionaries!\n",
    "\n",
    "Our next container is the Python **dictionary**. These are denoted by \\{ \\}.  They are  somewhat like lists, but instead of integer **indices**, they use alphanumeric (letters and numbers) **keys**:\n",
    "I love dictionaries.  So here is a bit more about them.\n",
    "\n",
    "One way to define a **dictionary** is with the curly braces, keys and values syntax like this: \n"
   ]
  },
  {
   "cell_type": "code",
   "execution_count": 1,
   "metadata": {},
   "outputs": [
    {
     "name": "stdout",
     "output_type": "stream",
     "text": [
      "{'lisa': 46084, 'lab': 46531, 'jeff': 44707}\n"
     ]
    }
   ],
   "source": [
    "telnos={'lisa':46084,'lab':46531,'jeff':44707} # defines a dictionary of  telephone extensions\n",
    "print (telnos)\n",
    "        "
   ]
  },
  {
   "cell_type": "markdown",
   "metadata": {},
   "source": [
    "The keys are 'lisa', 'lab', and 'jeff' and the values are 46084, 46531, and  44707.  To return the value associated with a specific key, use square brackets with the key name:"
   ]
  },
  {
   "cell_type": "code",
   "execution_count": 2,
   "metadata": {},
   "outputs": [
    {
     "name": "stdout",
     "output_type": "stream",
     "text": [
      "46084\n"
     ]
    }
   ],
   "source": [
    "print (telnos['lisa'])"
   ]
  },
  {
   "cell_type": "markdown",
   "metadata": {},
   "source": [
    " To change a key's value:"
   ]
  },
  {
   "cell_type": "code",
   "execution_count": 3,
   "metadata": {},
   "outputs": [],
   "source": [
    "telnos['lisa']=40684"
   ]
  },
  {
   "cell_type": "markdown",
   "metadata": {},
   "source": [
    "To add a new key and value:"
   ]
  },
  {
   "cell_type": "code",
   "execution_count": 4,
   "metadata": {},
   "outputs": [
    {
     "name": "stdout",
     "output_type": "stream",
     "text": [
      "{'lisa': 40684, 'lab': 46531, 'jeff': 44707, 'newguy': 48888}\n"
     ]
    }
   ],
   "source": [
    "telnos['newguy']=48888\n",
    "print (telnos)"
   ]
  },
  {
   "cell_type": "markdown",
   "metadata": {},
   "source": [
    "Like the other containers we learned about in Lecture 3, dictionaries also have  **methods**.\n",
    "\n",
    "One useful one can generate a **list** of all the **keys**:"
   ]
  },
  {
   "cell_type": "code",
   "execution_count": 5,
   "metadata": {},
   "outputs": [
    {
     "name": "stdout",
     "output_type": "stream",
     "text": [
      "['lisa', 'lab', 'jeff', 'newguy']\n"
     ]
    }
   ],
   "source": [
    "print(list(telnos.keys())) # returns an unordered list of the keys"
   ]
  },
  {
   "cell_type": "markdown",
   "metadata": {},
   "source": [
    "Or, for a _sorted_ list of keys, you can use **sorted**.  "
   ]
  },
  {
   "cell_type": "code",
   "execution_count": 6,
   "metadata": {},
   "outputs": [
    {
     "name": "stdout",
     "output_type": "stream",
     "text": [
      "['jeff', 'lab', 'lisa', 'newguy']\n"
     ]
    }
   ],
   "source": [
    "print (sorted(telnos.keys()))"
   ]
  },
  {
   "cell_type": "markdown",
   "metadata": {},
   "source": [
    "Another **list** generator called **values**  can be used to generate a list of all the values (duh): "
   ]
  },
  {
   "cell_type": "code",
   "execution_count": 7,
   "metadata": {},
   "outputs": [
    {
     "name": "stdout",
     "output_type": "stream",
     "text": [
      "[40684, 46531, 44707, 48888]\n"
     ]
    }
   ],
   "source": [
    "print (list(telnos.values()))"
   ]
  },
  {
   "cell_type": "markdown",
   "metadata": {},
   "source": [
    "There are other ways to create dictionaries.  The **dict( )** constructor can make a dictionary directly from a **list** containing key-value **tuples**:  "
   ]
  },
  {
   "cell_type": "code",
   "execution_count": 8,
   "metadata": {},
   "outputs": [
    {
     "name": "stdout",
     "output_type": "stream",
     "text": [
      "{'jeff': 44707, 'lisa': 46084, 'lab': 46531}\n"
     ]
    }
   ],
   "source": [
    "print (dict([('jeff',44707),('lisa',46084),('lab',46531)]))"
   ]
  },
  {
   "cell_type": "markdown",
   "metadata": {},
   "source": [
    "For a more complete description of dictionaries,  see: \n",
    "\n",
    "http://docs.python.org/tutorial/datastructures.html#dictionaries\n"
   ]
  },
  {
   "cell_type": "markdown",
   "metadata": {},
   "source": [
    "## Code blocks\n",
    "\n",
    "We are about ready to start writing a \"real\" program.  First we need to talk about the structure of a python program and the concept of the 'code block'. \n",
    "\n",
    "Every programming language provides a way to group blocks of code together and execute them under certain conditions.  Python uses indentation to define the code blocks and this also makes the code more readable. \n",
    "\n",
    "A common form for a code block  starts with a _condition_ statement (if this is _True_) terminated by a colon (:). Most often, this condition statement would be followed by an indented code block that is executed, if the statement is _True_. \n",
    "\n",
    " A typical Python program looks like this: \n"
   ]
  },
  {
   "cell_type": "markdown",
   "metadata": {},
   "source": [
    "program statement\n",
    "\n",
    "block 1 condition statement:\n",
    "\n",
    "    block 1 statement\n",
    "\n",
    "    block 1 statement \\\n",
    "\n",
    "         Break in the indentation convention!\n",
    "\n",
    "    block 1 statement\n",
    "\n",
    "    block 2 condition statement:\n",
    "\n",
    "        block 2 statement\n",
    "\n",
    "        block 2 statement\n",
    "\n",
    "        block 3 condition statement:\n",
    "\n",
    "            block 3 statement\n",
    "\n",
    "            block 3 statement\n",
    "\n",
    "            block 4 condition statement: block 4 single line of code\n",
    "\n",
    "        block 2 statement\n",
    "\n",
    "        block 2 statement\n",
    "\n",
    "    block 1 statement\n",
    "\n",
    "    block 1 statement\n",
    "\n",
    "program statement\n",
    "\n"
   ]
  },
  {
   "cell_type": "markdown",
   "metadata": {},
   "source": [
    "Exceptions to the code indentation rules are:\n",
    "\n",
    "- Statements can be continued on the next line with the continuation character $\\backslash$ and the indentation of the following line is arbitrary.  In Python 3, the backslash is not always required, but it is certainly recommended (by me) for clarity.  \n",
    "\n",
    "- If a code block consists of a single statement, then that may be placed on the same line as the colon (see block 4 above).  \n",
    "\n",
    "- The command \"break\" breaks you out of the code block. Use with caution!\n",
    "\n",
    "- There is a cheat that comes in handy when you are writing a complicated program and want to put in the code blocks but don't want them to DO anything yet:  the command  **pass** does nothing and can be used to stand in for a code block.\n",
    "\n",
    "\n",
    "\n",
    "\n"
   ]
  },
  {
   "cell_type": "markdown",
   "metadata": {},
   "source": [
    "**TIP:**  Use only spaces or only tabs to indent your code. Jupyter notebooks try to guess what you want and will indent for you, for example, after a statement terminating in a colon.  \n",
    "\n",
    "Whatever you do BE CONSISTENT because tabs are not the same as spaces in Python. Even if you can't tell the difference just by looking at it, Python knows and will complain about it!\n",
    "\n"
   ]
  },
  {
   "cell_type": "markdown",
   "metadata": {},
   "source": [
    "## Conditional statements\n",
    "\n",
    "Conditions  statements are statements like:  \"x is greater than y\", which evaluate to either **True** or **False**.  \n",
    "\n",
    "In Python we would use a  _relational operator_ __>__  for the \"is greater than\" test so the question \"is x is greater than y?\" is written:  **x>y**\n",
    "\n",
    "We already encountered a few _relational operators_ in Lecture 2, but  here is a more complete list  of those that are frequently used in condition statements:  \n",
    "\n",
    "\"==\"  means \"equals\";  A==B (Does A equal B?)\n",
    "\n",
    "\"!=\" means \"does not equal\";  A!=B (Is A not equal to B?)\n",
    "\n",
    "\"<\" means \"less than\"\n",
    "\n",
    "\"<=\" means \"less than or equal to\"\n",
    "\n",
    "\">\" means \"greater than\"\n",
    "\n",
    "\">=\" means \"greater than or equal to\"\n",
    "\n",
    "Conditions (like A==B)  can be combined with **and** or **or**  to make complex tests. For example **((A==B) and (C!=D))**.  Both have to be true for the condition to evaluate as **True**.  \n",
    "Alternatively for **((A==B) or (C!=D))**, only one has to be true for the condition to evaluate as **True**.   \n",
    "\n",
    "\n"
   ]
  },
  {
   "cell_type": "markdown",
   "metadata": {},
   "source": [
    "### \"while\" loops\n",
    "\n",
    "The **while** loop  executes a code block while some condition is **True**. \n",
    "\n",
    "**TIP:**  Be VERY CAREFUL with these as they will go on and on and on and on if the condition stays True.  For example the statement __while 1:__  will always be **True** and would be a very dangerous condition statement to make.  If that happens to you, just save your notebook and select \"Close and Halt\" under \"File\" and restart your notebook. OH, and then take the statement OUT! \n",
    "\n",
    "Let's practice making a code block using a **while** loop.  We will set a variable $N$ to some number (100) and decrement $N$ by 1 until it reaches a _threshold_ (90). When $N$ is no longer greater than the threshold, the code block will terminate.  \n",
    "\n"
   ]
  },
  {
   "cell_type": "code",
   "execution_count": 9,
   "metadata": {},
   "outputs": [
    {
     "name": "stdout",
     "output_type": "stream",
     "text": [
      "100\n",
      "99\n",
      "98\n",
      "97\n",
      "96\n",
      "95\n",
      "94\n",
      "93\n",
      "92\n",
      "91\n",
      "and the final value is:  90\n"
     ]
    }
   ],
   "source": [
    "N=100 # define the variable N to be 100\n",
    "threshold=90 # define some threshold to be 90\n",
    "\n",
    "# while the condition in the () is True, the program will continue\n",
    "while (N > threshold):  # is N greater then threshold?  if so, execute the indented code block\n",
    "    print (N)  # what it says\n",
    "    N-=1  # decriment N by one\n",
    "print ('and the final value is: ',N) # now we're done we'll see what is left of N."
   ]
  },
  {
   "cell_type": "markdown",
   "metadata": {},
   "source": [
    "### \"if\" statements\n",
    "\n",
    "In an **if** statement, the code-block is executed (once)  if the condition is _True_.\n",
    "\n",
    "Here is a  simple **if** statement:"
   ]
  },
  {
   "cell_type": "code",
   "execution_count": 10,
   "metadata": {},
   "outputs": [
    {
     "name": "stdout",
     "output_type": "stream",
     "text": [
      "where did N go?\n"
     ]
    }
   ],
   "source": [
    "# We can re-use N which was used in an earlier script (assuming it was run!):\n",
    "if (N < 100): # Is N less than 100?  \n",
    "    print (\"where did N go?\") # if so, print this.   \n",
    "# if not - you need to re-execute the while loop above this one.  \n",
    " \n",
    "\n"
   ]
  },
  {
   "cell_type": "markdown",
   "metadata": {},
   "source": [
    "There are additional conditions that you can  include in the **if** statements.  In Python these are:  **elif**  (short for \"else if\") which means if the first **if** statment is _False_, but the statement following **elif**  is _True_, then do something. Another is **else**, which means \"otherwise\". \n",
    "\n",
    "  Consider these examples:"
   ]
  },
  {
   "cell_type": "code",
   "execution_count": 11,
   "metadata": {},
   "outputs": [
    {
     "name": "stdout",
     "output_type": "stream",
     "text": [
      "Temperate region\n"
     ]
    }
   ],
   "source": [
    "latitude  = 32.7 # define a variable 'latitude'\n",
    "\n",
    "if (latitude < 24): \n",
    "    print(\"Tropical region\")\n",
    "elif (latitude> 24 and latitude < 66):\n",
    "    print(\"Temperate region\")\n",
    "else:\n",
    "    print(\"Polar region\")"
   ]
  },
  {
   "cell_type": "markdown",
   "metadata": {},
   "source": [
    "**in** is another Python _reserved word_ (remember from Lecture 2) that checks if a particular value is \"in\" a **list** (or **tuple** or **set**):  "
   ]
  },
  {
   "cell_type": "code",
   "execution_count": 12,
   "metadata": {},
   "outputs": [
    {
     "name": "stdout",
     "output_type": "stream",
     "text": [
      "call susie and apologize!\n"
     ]
    }
   ],
   "source": [
    "mylist=['jane','josh','sid','geoff'] # define a list\n",
    "if 'susie' in mylist:  # if the string \"susie\" is in the list, then \n",
    "    pass # don't do anything\n",
    "if 'susie' not in mylist:\n",
    "    print ('call susie and apologize!')\n",
    "    mylist.append('susie')\n",
    "elif 'george' in mylist: # if the last if statement is false, try this one\n",
    "    print ('susie and george both in list') \n",
    "else: # if both statements are false, do this:\n",
    "    print (\"susie in list but george isn't\")\n"
   ]
  },
  {
   "cell_type": "markdown",
   "metadata": {},
   "source": [
    "### \"for\" loops\n",
    "\n",
    "\n",
    "The **for** loop allows you to step through a **list** (or **tuple**, among other things) sequentially. It  assigns the first element to a variable name, say, $x$,  perform some operation on it and then return to the top of the loop and assign the next element to the same variable name.  \n",
    "\n",
    "For example, if we have a list $L = [1,2,3]$,  this loop will assign each element in $L$ to the variable $x$, square it, and then print the result.  "
   ]
  },
  {
   "cell_type": "code",
   "execution_count": 13,
   "metadata": {},
   "outputs": [
    {
     "name": "stdout",
     "output_type": "stream",
     "text": [
      "1 1\n",
      "2 4\n",
      "3 9\n"
     ]
    }
   ],
   "source": [
    "L = [1,2,3] # define the list 'L'\n",
    "\n",
    "\n",
    "# step through the list assigning each element to the variable, x\n",
    "for x in L: # x is assigned to each element in turn\n",
    "    print (x, x*x ) # or we could have written print (x**2)"
   ]
  },
  {
   "cell_type": "markdown",
   "metadata": {},
   "source": [
    "As a second example of a **for** loop, we can use the **list** generated by the dictionary method **dict.keys()**:"
   ]
  },
  {
   "cell_type": "code",
   "execution_count": 14,
   "metadata": {},
   "outputs": [
    {
     "name": "stdout",
     "output_type": "stream",
     "text": [
      "List of keys in telnos:  ['lisa', 'lab', 'jeff', 'newguy']\n",
      "lisa\n",
      "lab\n",
      "jeff\n",
      "newguy\n"
     ]
    }
   ],
   "source": [
    "# print out the list generated\n",
    "print ('List of keys in telnos: ',list(telnos.keys() )) # here you need the list() function\n",
    "# notice the slightly fancier form of the print statement above.\n",
    "\n",
    "# now step through that list, \n",
    "   # assigning each element to the variable key\n",
    "for key in telnos.keys():  # just use the list generator (we don't need the list() function)\n",
    "    print (key) # print out the variable, key"
   ]
  },
  {
   "cell_type": "markdown",
   "metadata": {},
   "source": [
    "What just happened?  The **for** statement assigned each element in the **list** generated by the method **telnos.keys( )** to the variable **key** and then printed each element out. The **for** statement loops through the entire **list**, one element at a time."
   ]
  },
  {
   "cell_type": "markdown",
   "metadata": {},
   "source": [
    "## Nested loops\n",
    "\n",
    "You can build a series of loops within loops (_nested loops_).    \n",
    "\n",
    "Remember that everything within an indented code block is executed completely before moving on to the next code block.  \n",
    "\n",
    "\n"
   ]
  },
  {
   "cell_type": "code",
   "execution_count": 15,
   "metadata": {},
   "outputs": [
    {
     "name": "stdout",
     "output_type": "stream",
     "text": [
      "lisa\n",
      "lisa 's number\n",
      "she's on the phone\n",
      "lab\n",
      "jeff\n"
     ]
    }
   ],
   "source": [
    "# define a dictionary of telephone extensions:\n",
    "telnos={'lisa':46084,'lab':46531,'jeff':44707}\n",
    "keys=telnos.keys() # make a list generator of the dictionary keys\n",
    "busy=True # define the boolean 'busy' as True\n",
    "# step through the list generator of the dictionary keys, \n",
    "# assigning each key to the variable 'key'\n",
    "for key in keys:\n",
    "    print (key) # print the variable 'key' (the name)\n",
    "    num=telnos[key] # assign the value of the key (the telephone number) to 'num'\n",
    "    if num == 46084: # conditional statement, if the number is 46084, then\n",
    "        # print the message identifying the key that this value belongs to\n",
    "        print (key,\"'s number\") \n",
    "        while busy: # If 'busy' is still 'True', then print the message \"she's on the phone\"\n",
    "            print (\"she's on the phone\")\n",
    "            busy=False # set 'busy' to 'False'\n",
    "            "
   ]
  }
 ],
 "metadata": {
  "kernelspec": {
   "display_name": "Python 3",
   "language": "python",
   "name": "python3"
  },
  "language_info": {
   "codemirror_mode": {
    "name": "ipython",
    "version": 3
   },
   "file_extension": ".py",
   "mimetype": "text/x-python",
   "name": "python",
   "nbconvert_exporter": "python",
   "pygments_lexer": "ipython3",
   "version": "3.6.10"
  }
 },
 "nbformat": 4,
 "nbformat_minor": 1
}
