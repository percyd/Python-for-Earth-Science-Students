{
 "cells": [
  {
   "cell_type": "markdown",
   "metadata": {},
   "source": [
    "# Practice Problems\n",
    "### Lecture 12\n",
    "Answer each number in a separate cell\n",
    "\n",
    "Rename this notebook with your last name and the lecture \n",
    "    \n",
    "    ex. Cych_B_12\n",
    "   \n",
    "Turn in to Canvas\n"
   ]
  },
  {
   "cell_type": "markdown",
   "metadata": {},
   "source": [
    "### 1. Locating Data\n",
    "- Use pandas to read in the dataset 'Datasets/EruptionData.csv'\n",
    "- Make a new series called 'number of eruptions' and initialize it to a blank (\"\").\n",
    "- Use  .unique() to create an array of unique volcano names\n",
    "- Use that array in a for loop to make a new dataframe containing all the rows with that volcano. \n",
    "- use **.loc** put the length of the volcano specific dataframe into 'number of eruptions' into the master dataframe. \n",
    "- After filling in the number of eruptions for all the volcanoes, use **sort_values** to find the volcano that erupted the most.  \n",
    "- Then, use **.sort_values** on VEI to find the 10 most explosive eruptions from this volcano.\n",
    "- Use **.dropna** to drop all the rows where VEI is 'NaN'.\n",
    "- Use **plt.scatter( )** to plot the start dates of the eruptions against their VEI. Use red triangles as markers.\n",
    "\n",
    "### 2. Sorting and Indexing\n",
    "- Sort the dataset by elevation\n",
    "- Re-index the dataset so that the indices go from 0 to the length of the dataset\n",
    "\n",
    "### 3. grouping and describing\n",
    "- Use the methods **.groupby()** and **.describe()** to find the dominant rock type in each tectonic setting. What percentage of intraplate oceanic crustal volcanoes are basaltic?\n",
    "\n",
    "- Use these same methods to find the primary volcano type with the lowest average elevation. Why might this type of volcano have the lowest elevation?\n"
   ]
  },
  {
   "cell_type": "code",
   "execution_count": null,
   "metadata": {},
   "outputs": [],
   "source": []
  }
 ],
 "metadata": {
  "kernelspec": {
   "display_name": "Python 3",
   "language": "python",
   "name": "python3"
  },
  "language_info": {
   "codemirror_mode": {
    "name": "ipython",
    "version": 3
   },
   "file_extension": ".py",
   "mimetype": "text/x-python",
   "name": "python",
   "nbconvert_exporter": "python",
   "pygments_lexer": "ipython3",
   "version": "3.6.7"
  }
 },
 "nbformat": 4,
 "nbformat_minor": 2
}
