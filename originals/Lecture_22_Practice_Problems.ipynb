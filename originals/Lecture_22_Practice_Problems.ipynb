{
 "cells": [
  {
   "cell_type": "markdown",
   "metadata": {},
   "source": [
    "# Practice Problems\n",
    "### Lecture 22\n",
    "Answer each number in a separate cell\n",
    "\n",
    "Rename the notebook with your lastName, first initial and the lecture \n",
    "    \n",
    "    ex. Cych_B_22\n",
    "    \n",
    "Turn this notebook into Canvas"
   ]
  },
  {
   "cell_type": "markdown",
   "metadata": {
    "collapsed": true
   },
   "source": [
    "## 1. Cartesian coordinates and polar coordinates\n",
    "- Write lambda functions to replace dir2cart() and cart2dir(). Call them **dir_cart** and **cart_dir**\n",
    "- You measured a bedding plane with an azimuth of  40 and a plunge of 62. Use your function **dir_cart()** to convert the coordinates to cartesian coordinates.\n",
    "- Use your function **cart_dir()** to convert the cartesian coordinates back to polar coordinates\n",
    "- test your functions by calling the **dir2cart()** and **cart2dir()** functions in the lecture.\n",
    "- modify **cart2dir()** to round to the nearest decimal\n",
    "\n",
    "## 2. Unit vectors\n",
    "- What is the sum of the two vectors Az1=245, Pl1=22 and Az2=10, Pl2=60?\n",
    "- What is the difference between these vectors?  \n",
    "- What is angle between the two vectors? \n",
    "- What is pole to the two vectors?  \n",
    "- Make an equal angle diagram\n",
    "    - plot the two vectors as green triangles\n",
    "    - plot the pole to the plane as a blue star\n",
    "    \n",
    "## 3.  Vectors with length\n",
    "- Modify the function **dir2cart()** from the lecture to include vector length $R$.  Call it **vec2cart()**.\n",
    "- Apply your new function to evaluate the cartesian coordinates of the vector with Azimuth=12, Plunge=42, R=8\n",
    "- Modify the function **cart2dir()** to return the full vector (Azimuth, Plunge and $R$) from the cartesian coordinates.  Call this one **cart2vec()**.  \n",
    "- Verify that your function works, by feeding the output of **dir2cart()** back into **cart2dir()** to make sure you get back what you started with.    "
   ]
  },
  {
   "cell_type": "markdown",
   "metadata": {},
   "source": []
  },
  {
   "cell_type": "markdown",
   "metadata": {},
   "source": []
  },
  {
   "cell_type": "code",
   "execution_count": null,
   "metadata": {},
   "outputs": [],
   "source": []
  }
 ],
 "metadata": {
  "kernelspec": {
   "display_name": "Python 3",
   "language": "python",
   "name": "python3"
  },
  "language_info": {
   "codemirror_mode": {
    "name": "ipython",
    "version": 3
   },
   "file_extension": ".py",
   "mimetype": "text/x-python",
   "name": "python",
   "nbconvert_exporter": "python",
   "pygments_lexer": "ipython3",
   "version": "3.6.7"
  }
 },
 "nbformat": 4,
 "nbformat_minor": 2
}
