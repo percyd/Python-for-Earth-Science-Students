{
 "cells": [
  {
   "cell_type": "markdown",
   "metadata": {},
   "source": [
    "# Practice Problems\n",
    "### Lecture 18\n",
    "Answer each number in a separate cell\n",
    "\n",
    "Rename the notebook with your lastName, first inital and the lecture \n",
    "    \n",
    "    ex. Cych_B_18\n",
    "    \n",
    "Turn this notebook into Canvas"
   ]
  },
  {
   "cell_type": "markdown",
   "metadata": {
    "collapsed": true
   },
   "source": [
    "## 1. Mercator projections\n",
    "- Make a mercator projection with latitude bounds of $\\pm$ 80.\n",
    "- Color the oceans aqua and the continents coral\n",
    "- Draw on parallels and meridians at 15$^{\\circ}$ intervals\n",
    "- Place a pentagon where you were born and set the markersize to 15. \\[Hint: **help(plt.plot)**\\]\n",
    "\n",
    "\n",
    "## 2. Orthographic maps\n",
    "- Make an orthographic map for the other side of the world by setting lon_0 and lat_0 to 180 and -80 respectively\n",
    "- Color the continents black\n",
    "- Plot a large magenta square at the South Pole (-90, 170)\n",
    "\n",
    "\n",
    "## 3. Lambert Conformal Conic maps\n",
    "- Make a Lambert conformal conic projection  with the boundaries 0-40$^{\\circ}$N and 110-160$^{\\circ}$E.\n",
    "- Add the continents to your map \n",
    "- Add reasonable latitude and longitude grid lines and label them.\n",
    "- Plot the earthquakes in the datafile **Datasets/EarthquakeLocations/last5Years.csv** as black triangles.\n",
    "- Change the size of the markers based on depths - you can use the same depth bins as before, or use your own bins.\n"
   ]
  },
  {
   "cell_type": "code",
   "execution_count": null,
   "metadata": {},
   "outputs": [],
   "source": []
  }
 ],
 "metadata": {
  "kernelspec": {
   "display_name": "Python 3",
   "language": "python",
   "name": "python3"
  },
  "language_info": {
   "codemirror_mode": {
    "name": "ipython",
    "version": 3
   },
   "file_extension": ".py",
   "mimetype": "text/x-python",
   "name": "python",
   "nbconvert_exporter": "python",
   "pygments_lexer": "ipython3",
   "version": "3.6.7"
  }
 },
 "nbformat": 4,
 "nbformat_minor": 2
}
