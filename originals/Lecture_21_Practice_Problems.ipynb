{
 "cells": [
  {
   "cell_type": "markdown",
   "metadata": {},
   "source": [
    "# Practice Problems\n",
    "### Lecture 21\n",
    "Answer each number in a separate cell\n",
    "\n",
    "Rename the notebook with your lastName, first initial and the lecture \n",
    "    \n",
    "    ex. Cych_B_21\n",
    "    \n",
    "Turn this notebook into Canvas."
   ]
  },
  {
   "cell_type": "markdown",
   "metadata": {
    "collapsed": true
   },
   "source": [
    "## 1. Rose diagrams\n",
    "- NOAA collects wind directional data for the US which we can download and do whatever we like with it (decide whether or not to go sailing or surfing, for example).  We can also plot the data as a rose diagram.  :)\n",
    "-  We downloaded data for May 14, 2017 (Mother's day) from this search:  http://www.ndbc.noaa.gov/radial_search.php?lat1=33N&lon1=117W&uom=E&dist=250&ot=A&time=1 and reformatted the file as a csv datafile in  Datasets/WindDirections/wind.csv \n",
    "- Read in the data as a Pandas DataFrame.  Use the **df.head( )** syntax (where **df** is the name of your wind DataFrame) to inspect the file first, then you can set the skiprows and/or header keywords appropriately.\n",
    "- The wind directions are in the WDIR column. Use **df.dropna( )** to get rid of the blank WDIR lines.\n",
    "- Plot the WDIR data as a rose diagram.  \n",
    "\n",
    "## 2. Equal angle nets\n",
    "- Somebody measured the direction of the magnetic field at 33N and 117W for the last 10,000 years \\[Ok not really but there are models of the secular variation of the field for this.\\]\n",
    "- Read in the data file in Datasets/GeomagneticDirections/dec_inc.csv\n",
    "- Plot the declination (dec) and inclination (inc) data on an equal angle net as red symbols with black edges.  Declinations are azimuths and inclination are plunges.  \n",
    "\n",
    "## 3. Equal area Nets\n",
    "- Re-plot the declination (Dec) and inclination (Inc) data from problem 2  on an equal area net. \n"
   ]
  },
  {
   "cell_type": "markdown",
   "metadata": {},
   "source": []
  },
  {
   "cell_type": "markdown",
   "metadata": {},
   "source": []
  },
  {
   "cell_type": "code",
   "execution_count": null,
   "metadata": {},
   "outputs": [],
   "source": []
  }
 ],
 "metadata": {
  "kernelspec": {
   "display_name": "Python 3",
   "language": "python",
   "name": "python3"
  },
  "language_info": {
   "codemirror_mode": {
    "name": "ipython",
    "version": 3
   },
   "file_extension": ".py",
   "mimetype": "text/x-python",
   "name": "python",
   "nbconvert_exporter": "python",
   "pygments_lexer": "ipython3",
   "version": "3.6.7"
  }
 },
 "nbformat": 4,
 "nbformat_minor": 2
}
