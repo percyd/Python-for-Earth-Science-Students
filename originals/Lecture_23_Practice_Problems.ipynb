{
 "cells": [
  {
   "cell_type": "markdown",
   "metadata": {},
   "source": [
    "# Practice Problems\n",
    "### Lecture 23\n",
    "Answer each number in a separate cell\n",
    "\n",
    "Rename the notebook with your lastName, first inital and the lecture \n",
    "    \n",
    "    ex. Cych_B_23\n",
    "    \n",
    "Turn this notebook into Canvas"
   ]
  },
  {
   "cell_type": "markdown",
   "metadata": {
    "collapsed": true
   },
   "source": [
    "## 1. Great circles\n",
    "- Someone measured the strike and dip of a plane to be 333 and 42$^{\\circ}$ NE.   \n",
    "- Calculate the dip direction and the pole to the plane from the strike and dip.  \n",
    "- Plot the trace of the plane on an equal area net.   \n",
    "\n",
    "\\[Hint: look at Lecture 21 for how strike and dip works.\\]\n",
    "\n",
    "\n",
    "## 2. Small circles\n",
    "- Someone measured a bunch of geomagnetic directions with a mean inclination of 33 $^{\\circ}$ declination of 12$^{\\circ}$ and a circle of 95% confidence of 15$^{\\circ}$.  \n",
    "\n",
    "- Plot the mean direction as a solid red triangle in an equal area diagram\n",
    "- Plot the circle of confidence as blue dots\n",
    "- Calculate the antipode of the mean direction (the direction 180$^{\\circ}$ away with the opposite inclination).\n",
    "- Plot the antipode as a white triangle with a black edge. "
   ]
  },
  {
   "cell_type": "code",
   "execution_count": null,
   "metadata": {},
   "outputs": [],
   "source": []
  }
 ],
 "metadata": {
  "kernelspec": {
   "display_name": "Python 3",
   "language": "python",
   "name": "python3"
  },
  "language_info": {
   "codemirror_mode": {
    "name": "ipython",
    "version": 3
   },
   "file_extension": ".py",
   "mimetype": "text/x-python",
   "name": "python",
   "nbconvert_exporter": "python",
   "pygments_lexer": "ipython3",
   "version": "3.6.7"
  }
 },
 "nbformat": 4,
 "nbformat_minor": 2
}
