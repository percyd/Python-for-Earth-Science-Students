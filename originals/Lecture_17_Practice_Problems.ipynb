{
 "cells": [
  {
   "cell_type": "markdown",
   "metadata": {},
   "source": [
    "# Practice Problems\n",
    "### Lecture 17\n",
    "Answer each number in a separate cell\n",
    "\n",
    "Rename this notebook with your last name and the lecture \n",
    "    \n",
    "    ex. Cych_B_17\n",
    "    \n",
    "Turn-in this notebook on Canvas"
   ]
  },
  {
   "cell_type": "markdown",
   "metadata": {},
   "source": [
    "## 1. Kernel Density Estimates and Jointplots\n",
    "- Use pandas to read in the tab separated file Datasets/ZirconData.txt. These data are from Bisnath et al (2006) and were downloaded from the Pangaea database (https://doi.pangaea.de/10.1594/PANGAEA.847015)\n",
    "- These data are Lead-Lead and Uranium-Lead age dates for zircons from Dronning Maud Land, Antartica. The zircon ages show two stages of growth associated with two stages of mountain building in the region.\n",
    "\n",
    "- The columns \\['Age dated \\[ka\\] (Age, 206Pb/238U Lead-Uranium)'\\] and \\['Age dated \\[ka\\] (Age, 207Pb/206Pb Lead-Lead)'\\] are the different age systems. Get the mean of each of these ages.\n",
    "- Use **plt.hist()** to plot a histogram of both age dates.\n",
    "- Use **sns.kdeplot()** to plot a kernel density of both age systems. Experiment with the **bw** argument to see how this alters your result. According to the seaborn documentation, the bandwidth (bw) parameter of the KDE controls how tightly the estimation is fit to the data, much like the bin size in a histogram. It corresponds to the width of the kernels we plotted above. The default behavior tries to guess a good value using a common reference rule, but it may be helpful to try larger or smaller values:\n",
    "- Use **sns.jointplot()** to plot a 2d kernel density estimate of the data."
   ]
  },
  {
   "cell_type": "markdown",
   "metadata": {},
   "source": [
    "## 2. Box and Violin Plots\n",
    "- Plot a boxplot of the Pb-U age for each sample (designated by the 'Sample ID' column). Plot the mean Pb-U age for the whole dataset as a horizontal line.\n",
    "- Plot a violin plot for each of these samples. Plot a swarm plot on top of this plot.\n",
    "- Does the boxplot or the violin plot tell you more about the data in this case?"
   ]
  },
  {
   "cell_type": "markdown",
   "metadata": {},
   "source": [
    "## 3. Pairplots\n",
    "- Filter the DataFrame to only include rows with 207Pb/206Pb and 206Pb/238U <0.5 \n",
    "- Plot the four elemental ratios 232Th/238U, 207Pb/206Pb, 207Pb/235U and 206Pb/238U against one another\n",
    "- Can you see a bimodal distribution in any of these plots?\n",
    "- Are any of these ratios strongly correlated?"
   ]
  },
  {
   "cell_type": "code",
   "execution_count": null,
   "metadata": {},
   "outputs": [],
   "source": []
  }
 ],
 "metadata": {
  "kernelspec": {
   "display_name": "Python 3",
   "language": "python",
   "name": "python3"
  },
  "language_info": {
   "codemirror_mode": {
    "name": "ipython",
    "version": 3
   },
   "file_extension": ".py",
   "mimetype": "text/x-python",
   "name": "python",
   "nbconvert_exporter": "python",
   "pygments_lexer": "ipython3",
   "version": "3.6.7"
  }
 },
 "nbformat": 4,
 "nbformat_minor": 2
}
