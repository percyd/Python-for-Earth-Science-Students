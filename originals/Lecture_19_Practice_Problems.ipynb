{
 "cells": [
  {
   "cell_type": "markdown",
   "metadata": {},
   "source": [
    "# Practice Problems\n",
    "### Lecture 19\n",
    "Answer each number in a separate cell\n",
    "\n",
    "Rename the notebook with your lastName, first inital and the lecture \n",
    "    \n",
    "    ex. Cych_B_19\n",
    "    \n",
    "Turn this notebook into Canvas"
   ]
  },
  {
   "cell_type": "markdown",
   "metadata": {
    "collapsed": true
   },
   "source": [
    "## 1. Meshgrid and contour\n",
    "- Write a  lambda function for the equation \n",
    "$$ c=f(a,b)=(1-a^2+b^3) e^{-(a^2+b^2)/2}$$.\n",
    "- Create two arrays- a and b- that range from -3 to 3 in increments of 0.1.\n",
    "- Make a meshgrid from a and b.\n",
    "- Evaluate c for the meshgrid\n",
    "- Make a contour plot of a,b and c.  "
   ]
  },
  {
   "cell_type": "markdown",
   "metadata": {},
   "source": [
    "## 2. Mkigrf and maps\n",
    "- Lisa moved to San Diego in 1983.    Use the  functions in the  **mkigrf** module to do the following:\n",
    "    - Calculate the inclination, declination, and strength of the field that year.\n",
    "    - Create a map of the strength of the field in 1983\n",
    "        - include coastlines\n",
    "        - a title\n",
    "        - a color bar \n",
    "    - Make a plot of declination in San Diego (33,-117) over the last 100 years. "
   ]
  },
  {
   "cell_type": "code",
   "execution_count": null,
   "metadata": {},
   "outputs": [],
   "source": []
  }
 ],
 "metadata": {
  "kernelspec": {
   "display_name": "Python 3",
   "language": "python",
   "name": "python3"
  },
  "language_info": {
   "codemirror_mode": {
    "name": "ipython",
    "version": 3
   },
   "file_extension": ".py",
   "mimetype": "text/x-python",
   "name": "python",
   "nbconvert_exporter": "python",
   "pygments_lexer": "ipython3",
   "version": "3.6.7"
  }
 },
 "nbformat": 4,
 "nbformat_minor": 2
}
