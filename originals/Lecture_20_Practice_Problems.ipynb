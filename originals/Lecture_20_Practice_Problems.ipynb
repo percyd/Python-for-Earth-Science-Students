{
 "cells": [
  {
   "cell_type": "markdown",
   "metadata": {},
   "source": [
    "# Practice Problems\n",
    "### Lecture 20\n",
    "Answer each number in a separate cell\n",
    "\n",
    "Rename the notebook with your lastName, first initial and the lecture \n",
    "    \n",
    "    ex. Cych_B_20\n",
    "    \n",
    "Turn this notebook into Canvas"
   ]
  },
  {
   "cell_type": "markdown",
   "metadata": {},
   "source": [
    "## 1. Geoplot\n",
    "- Read in the data in Datasets/navdat.txt and filter for ages less than 10,000 years (the Holocene).\n",
    "- Make an array of unique STATE names.  Notice how one is misspelled. \n",
    "- Use **.loc** to fix these state names. \n",
    "- Filter the data to include only data from USA using the **Pandas** **.isin()** method\n",
    "- make  a point plot of the filtered data with **Geoplot**.\n",
    "\n",
    "## 2.  UTM versus Lat./Lon.\n",
    "- How can you tell which is northing and which is easting in a UTM set of coordinates? \n",
    "\n",
    "\n",
    "## 3.. Shape files\n",
    "- read in the coastline data for the state of Hawaii and make a plot with all the islands on it.  \n",
    "- read in the coastline data and convert it to UTM.\n",
    "- plot the Big Island in both Lat/Lon and UTM coordinates in side-by-side plots using the **fig.add_subplot()** method of the figure object. \n",
    "\n"
   ]
  }
 ],
 "metadata": {
  "kernelspec": {
   "display_name": "Python 3",
   "language": "python",
   "name": "python3"
  },
  "language_info": {
   "codemirror_mode": {
    "name": "ipython",
    "version": 3
   },
   "file_extension": ".py",
   "mimetype": "text/x-python",
   "name": "python",
   "nbconvert_exporter": "python",
   "pygments_lexer": "ipython3",
   "version": "3.6.7"
  }
 },
 "nbformat": 4,
 "nbformat_minor": 2
}
