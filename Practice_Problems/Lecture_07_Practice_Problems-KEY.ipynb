{
 "cells": [
  {
   "cell_type": "markdown",
   "metadata": {},
   "source": [
    "# Practice Problems\n",
    "### Lecture 7\n",
    "Answer each number in a separate cell\n",
    "\n",
    "Rename this notebook with your last name and the lecture \n",
    " \n",
    " ex. Cych_B_07\n",
    "    \n",
    "Turn-in this notebook on Canvas.  "
   ]
  },
  {
   "cell_type": "markdown",
   "metadata": {},
   "source": [
    "1. Generate arrays\n",
    "    - Use **NumPy** to generate an array of integers ranging from 0 up to 360 by intervals of 10.\n",
    "    - Use **NumPy** to generate an array from 0 to 2$\\pi$ with 36 values (use the **NumPy** attribute **pi**)\n",
    "    - print them both out. \n",
    "    - Use **NumPy** to generate an array with 20 equally spaced floating point numbers between 0 and 2$\\pi$ and print it out.  \n",
    "2. Array slicing\n",
    "    - Load the data file _Datasets/RecentEarthquakes/earthquakeLocations.txt_ into a **NumPy** array. Remember that the folder _Datasets_ is in the  directory above the one that this notebook is in!  The data file contains the latitude and longitude of 10 different earthquakes.\n",
    "    - Print out the shape of the array you just imported \n",
    "    - Convert the shape of the array to 2x10.  Use both the **.reshape()** and **.transpose()** methods. \n",
    "    - Print the shape of the two new arrays\n",
    "    - Take a slice of only the latitudes and assign it in a new variable **lats**\n",
    "    - Take a slice of only the longitudes and assign it in a new variable **lons**. \n",
    "    - Print the type of the variable **lats** and **lons**\n",
    "    - Convert the new arrays, **lats** and **lons**, into separate lists and assign them to new variable names\n",
    "    - Print the type of these two new variables\n",
    "    - Save the numpy array **lats** into a text file labeled 'lats.txt'\n"
   ]
  },
  {
   "cell_type": "markdown",
   "metadata": {},
   "source": [
    "Resources:\n",
    "\n",
    "http://ds.iris.edu/ieb/index.html?format=text&nodata=404&starttime=1970-01-01&endtime=2025-01-01&minmag=0&maxmag=10&mindepth=0&maxdepth=900&orderby=time-desc&limit=1000&maxlat=89.18&minlat=-89.18&maxlon=180.00&minlon=-180.00&zm=1&mt=ter) "
   ]
  },
  {
   "cell_type": "code",
   "execution_count": 7,
   "metadata": {},
   "outputs": [
    {
     "name": "stdout",
     "output_type": "stream",
     "text": [
      "[  0  10  20  30  40  50  60  70  80  90 100 110 120 130 140 150 160 170\n",
      " 180 190 200 210 220 230 240 250 260 270 280 290 300 310 320 330 340 350\n",
      " 360]\n"
     ]
    }
   ],
   "source": [
    "from IPython.core.interactiveshell import InteractiveShell\n",
    "InteractiveShell.ast_node_interactivity = 'all'\n",
    "\n",
    "myints1 = np.arange(0,361,10)\n",
    "print (myints1)"
   ]
  },
  {
   "cell_type": "code",
   "execution_count": 8,
   "metadata": {},
   "outputs": [
    {
     "data": {
      "text/plain": [
       "array([0.        , 0.17951958, 0.35903916, 0.53855874, 0.71807832,\n",
       "       0.8975979 , 1.07711748, 1.25663706, 1.43615664, 1.61567622,\n",
       "       1.7951958 , 1.97471538, 2.15423496, 2.33375454, 2.51327412,\n",
       "       2.6927937 , 2.87231328, 3.05183286, 3.23135244, 3.41087202,\n",
       "       3.5903916 , 3.76991118, 3.94943076, 4.12895034, 4.30846992,\n",
       "       4.48798951, 4.66750909, 4.84702867, 5.02654825, 5.20606783,\n",
       "       5.38558741, 5.56510699, 5.74462657, 5.92414615, 6.10366573,\n",
       "       6.28318531])"
      ]
     },
     "execution_count": 8,
     "metadata": {},
     "output_type": "execute_result"
    }
   ],
   "source": [
    "myvals = np.linspace(0, np.pi*2,36)\n",
    "myvals"
   ]
  },
  {
   "cell_type": "code",
   "execution_count": 9,
   "metadata": {},
   "outputs": [
    {
     "data": {
      "text/plain": [
       "array([0.        , 0.33069396, 0.66138793, 0.99208189, 1.32277585,\n",
       "       1.65346982, 1.98416378, 2.31485774, 2.64555171, 2.97624567,\n",
       "       3.30693964, 3.6376336 , 3.96832756, 4.29902153, 4.62971549,\n",
       "       4.96040945, 5.29110342, 5.62179738, 5.95249134, 6.28318531])"
      ]
     },
     "execution_count": 9,
     "metadata": {},
     "output_type": "execute_result"
    }
   ],
   "source": [
    "myvals2 = np.linspace(0,2*np.pi,20)\n",
    "myvals2"
   ]
  },
  {
   "cell_type": "code",
   "execution_count": 10,
   "metadata": {},
   "outputs": [
    {
     "data": {
      "text/plain": [
       "(10, 2)"
      ]
     },
     "execution_count": 10,
     "metadata": {},
     "output_type": "execute_result"
    },
    {
     "name": "stdout",
     "output_type": "stream",
     "text": [
      "[[  66.07 -149.03]\n",
      " [  38.83 -122.8 ]\n",
      " [  32.92 -115.47]\n",
      " [  47.63 -122.51]\n",
      " [  60.97 -151.24]\n",
      " [  37.65 -118.85]\n",
      " [  53.2  -161.3 ]\n",
      " [  19.41 -155.28]\n",
      " [  38.84 -122.83]\n",
      " [  36.88  -89.12]]\n"
     ]
    }
   ],
   "source": [
    "import numpy as np\n",
    "\n",
    "EQ = np.loadtxt(\"../Datasets/RecentEarthquakes/earthquakeLocations.txt\")\n",
    "EQ.shape\n",
    "print (EQ)"
   ]
  },
  {
   "cell_type": "code",
   "execution_count": 15,
   "metadata": {},
   "outputs": [
    {
     "name": "stdout",
     "output_type": "stream",
     "text": [
      "[[  66.07 -149.03   38.83 -122.8    32.92 -115.47   47.63 -122.51   60.97\n",
      "  -151.24]\n",
      " [  37.65 -118.85   53.2  -161.3    19.41 -155.28   38.84 -122.83   36.88\n",
      "   -89.12]]\n"
     ]
    }
   ],
   "source": [
    "newEQ = EQ.reshape(2,10)\n",
    "print (newEQ)"
   ]
  },
  {
   "cell_type": "code",
   "execution_count": 6,
   "metadata": {},
   "outputs": [
    {
     "data": {
      "text/plain": [
       "array([[  66.07,   38.83,   32.92,   47.63,   60.97,   37.65,   53.2 ,\n",
       "          19.41,   38.84,   36.88],\n",
       "       [-149.03, -122.8 , -115.47, -122.51, -151.24, -118.85, -161.3 ,\n",
       "        -155.28, -122.83,  -89.12]])"
      ]
     },
     "execution_count": 6,
     "metadata": {},
     "output_type": "execute_result"
    }
   ],
   "source": [
    "EQ.transpose()"
   ]
  },
  {
   "cell_type": "code",
   "execution_count": 35,
   "metadata": {
    "scrolled": true
   },
   "outputs": [
    {
     "name": "stdout",
     "output_type": "stream",
     "text": [
      "[66.07 38.83 32.92 47.63 60.97 37.65 53.2  19.41 38.84 36.88]\n",
      "[-149.03 -122.8  -115.47 -122.51 -151.24 -118.85 -161.3  -155.28 -122.83\n",
      "  -89.12]\n"
     ]
    }
   ],
   "source": [
    "lats = EQ[:,0]\n",
    "lons = EQ[:,1]\n",
    "print(lats)\n",
    "print (lons)"
   ]
  },
  {
   "cell_type": "code",
   "execution_count": 42,
   "metadata": {
    "scrolled": true
   },
   "outputs": [
    {
     "name": "stdout",
     "output_type": "stream",
     "text": [
      "[66.07, 38.83, 32.92, 47.63, 60.97, 37.65, 53.2, 19.41, 38.84, 36.88] \n",
      "\n",
      " [-149.03, -122.8, -115.47, -122.51, -151.24, -118.85, -161.3, -155.28, -122.83, -89.12]\n"
     ]
    }
   ],
   "source": [
    "listlats = list(lats)\n",
    "listlons = list(lons)\n",
    "print (listlats, \"\\n\\n\",listlons)"
   ]
  },
  {
   "cell_type": "code",
   "execution_count": 43,
   "metadata": {},
   "outputs": [],
   "source": [
    "np.savetxt(\"lats.txt\", listlats)"
   ]
  },
  {
   "cell_type": "code",
   "execution_count": 2,
   "metadata": {},
   "outputs": [],
   "source": [
    "%pycat lats.txt"
   ]
  },
  {
   "cell_type": "code",
   "execution_count": 4,
   "metadata": {},
   "outputs": [
    {
     "name": "stdout",
     "output_type": "stream",
     "text": [
      "<html>\n",
      "<head><title>301 Moved Permanently</title></head>\n",
      "<body>\n",
      "<center><h1>301 Moved Permanently</h1></center>\n",
      "<hr><center>nginx</center>\n",
      "</body>\n",
      "</html>\n"
     ]
    },
    {
     "name": "stderr",
     "output_type": "stream",
     "text": [
      "  % Total    % Received % Xferd  Average Speed   Time    Time     Time  Current\n",
      "                                 Dload  Upload   Total   Spent    Left  Speed\n",
      "\n",
      "  0     0    0     0    0     0      0      0 --:--:-- --:--:-- --:--:--     0\n",
      "100   162  100   162    0     0    224      0 --:--:-- --:--:-- --:--:--   224\n"
     ]
    }
   ],
   "source": [
    "! curl https://lance-modis.eosdis.nasa.gov/imagery/gallery/2012270-0926/Miriam.A2012270.2050.2km.jpg"
   ]
  }
 ],
 "metadata": {
  "kernelspec": {
   "display_name": "Python 3 (ipykernel)",
   "language": "python",
   "name": "python3"
  },
  "language_info": {
   "codemirror_mode": {
    "name": "ipython",
    "version": 3
   },
   "file_extension": ".py",
   "mimetype": "text/x-python",
   "name": "python",
   "nbconvert_exporter": "python",
   "pygments_lexer": "ipython3",
   "version": "3.9.7"
  }
 },
 "nbformat": 4,
 "nbformat_minor": 2
}
