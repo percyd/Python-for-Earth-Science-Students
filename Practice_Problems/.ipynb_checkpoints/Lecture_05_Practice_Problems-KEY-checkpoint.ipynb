{
 "cells": [
  {
   "cell_type": "markdown",
   "metadata": {},
   "source": [
    "# Practice Problems\n",
    "### Lecture 5\n",
    "Answer each number in a separate cell\n",
    "\n",
    "Rename this notebook with your last name and the lecture \n",
    "    \n",
    "    ex. Cych_B_05\n",
    "    \n",
    "Turn-in this notebook on Canvas."
   ]
  },
  {
   "cell_type": "markdown",
   "metadata": {},
   "source": [
    "1. Doc string\n",
    "    - Create a function  **greeting( )**. Include a doc string that explains what the function does\n",
    "    - In the body, use the command **print ('Hi there')**\n",
    "    - print out the docstring with **help(greeting)**\n",
    "2. Functions\n",
    "    - create a function  called **circleArea( )** . The function should take a radius as an argument and return the area of a circle with that radius ($A=\\pi r^2$). Include a doc string (as ALWAYS). \n",
    "    - call the function and print out the result\n",
    "    - Create a function called **add_em_up( )**  that takes an unspecified number of input floating point or integer arguments and returns their sum.\n",
    "    - Call the function with different numbers of arguments and print the sum.\n",
    "3. Modules\n",
    "    - Create a module **myMath.py**  by copying both functions **add\\_em\\_up(\\*args)** and **circleArea(r)** in a  cell\n",
    "    - rename the two functions **add** and **area**\n",
    "    - save the module by using the __%%writefile__ magic command and specifying the file name as **myMath.py**. \n",
    "    - import the **myMath.py** module into your Jupyter notebook and call each function in the module\n",
    "4. Local variables\n",
    "    - define a variable **myName** with your name\n",
    "    - define  a function **greeting( )**  that sets myName to \"John Doe\". The function should return the string   \"Hello\" and the variable **myName**\n",
    "    - print **myName**\n",
    "    - call the function **greeting( )** and print the output\n",
    "    - print **myName** again \n",
    "    - Has the value of **myName** changed after calling the function **greeting( )**?\n",
    "5. Global variables\n",
    "    - define a variable **name** with your name\n",
    "    - define a function **greet( )** that sets the global variable **name** to \"Jane Doe\". The function should return \"Hello\" and the variable **name**\n",
    "    - print **name**\n",
    "    - call the function **greet( )** and print the output \n",
    "    - print **name**\n",
    "    - Has the value of **name** changed after calling the function **greet( )**?"
   ]
  },
  {
   "cell_type": "code",
   "execution_count": 1,
   "metadata": {},
   "outputs": [
    {
     "name": "stdout",
     "output_type": "stream",
     "text": [
      "hi there Percy\n"
     ]
    }
   ],
   "source": [
    "def greeting(greet):\n",
    "    \"\"\"\n",
    "    returns a nice greeting\n",
    "    \"\"\"\n",
    "    if greet is None:\n",
    "        pass\n",
    "    else:\n",
    "        print(\"hi there\", greet)\n",
    "greeting(\"Percy\")        "
   ]
  },
  {
   "cell_type": "code",
   "execution_count": 2,
   "metadata": {},
   "outputs": [
    {
     "data": {
      "text/plain": [
       "3.141592653589793"
      ]
     },
     "execution_count": 2,
     "metadata": {},
     "output_type": "execute_result"
    }
   ],
   "source": [
    "import numpy as np\n",
    "def circleArea(myradius):\n",
    "    \"\"\"\n",
    "    returns the area for a radius\n",
    "    \"\"\"\n",
    "    if myradius is None:\n",
    "        pass\n",
    "    else:\n",
    "        myarea = np.pi * myradius**2\n",
    "        return myarea\n",
    "circleArea(1)"
   ]
  },
  {
   "cell_type": "code",
   "execution_count": 3,
   "metadata": {
    "scrolled": true
   },
   "outputs": [
    {
     "name": "stdout",
     "output_type": "stream",
     "text": [
      "1\n",
      "3\n",
      "6\n"
     ]
    },
    {
     "data": {
      "text/plain": [
       "3.141592653589793"
      ]
     },
     "execution_count": 3,
     "metadata": {},
     "output_type": "execute_result"
    }
   ],
   "source": [
    "def add_em_up(*args):\n",
    "    if args is None:\n",
    "        pass\n",
    "    else:\n",
    "        mysum = 0\n",
    "        for arg in args:\n",
    "            #should check to see if it's a number...\n",
    "            mysum = mysum + arg\n",
    "            print (mysum)\n",
    "    return mysum\n",
    "add_em_up(1,2,3)\n",
    "circleArea(1)"
   ]
  },
  {
   "cell_type": "code",
   "execution_count": 8,
   "metadata": {
    "scrolled": true
   },
   "outputs": [
    {
     "name": "stdout",
     "output_type": "stream",
     "text": [
      "Overwriting myMath.py\n"
     ]
    }
   ],
   "source": [
    "%%writefile myMath.py\n",
    "import numpy as np\n",
    "def myarea(myradius):\n",
    "    \"\"\"\n",
    "    returns the area for a radius\n",
    "    \"\"\"\n",
    "    #import numpy as np\n",
    "    if myradius is None:\n",
    "        pass\n",
    "    else:\n",
    "        myarea = np.pi * myradius**2\n",
    "        return myarea\n",
    "def myadd(*args):\n",
    "    if args is None:\n",
    "        pass\n",
    "    else:\n",
    "        mysum = 0\n",
    "        for arg in args:\n",
    "            #should check to see if it's a number...\n",
    "            mysum = mysum + arg\n",
    "            print (mysum)\n",
    "    return mysum    \n",
    "    "
   ]
  },
  {
   "cell_type": "code",
   "execution_count": 11,
   "metadata": {},
   "outputs": [
    {
     "name": "stdout",
     "output_type": "stream",
     "text": [
      "2\n",
      "5\n",
      "9\n",
      "14\n"
     ]
    },
    {
     "data": {
      "text/plain": [
       "12.566370614359172"
      ]
     },
     "execution_count": 11,
     "metadata": {},
     "output_type": "execute_result"
    }
   ],
   "source": [
    "from importlib import reload\n",
    "reload(myMath)\n",
    "myMath.myadd(2,3,4,5)\n",
    "myMath.myarea(2)"
   ]
  },
  {
   "cell_type": "code",
   "execution_count": 12,
   "metadata": {},
   "outputs": [
    {
     "data": {
      "text/plain": [
       "'Hello John Doe'"
      ]
     },
     "execution_count": 12,
     "metadata": {},
     "output_type": "execute_result"
    }
   ],
   "source": [
    "myName = \"Percy\"\n",
    "def greeting():\n",
    "    myName = \"John Doe\"\n",
    "    return (\"Hello \" + myName)\n",
    "greeting()"
   ]
  },
  {
   "cell_type": "code",
   "execution_count": 13,
   "metadata": {},
   "outputs": [
    {
     "name": "stdout",
     "output_type": "stream",
     "text": [
      "Percy\n"
     ]
    }
   ],
   "source": [
    "print (myName)"
   ]
  },
  {
   "cell_type": "code",
   "execution_count": 20,
   "metadata": {},
   "outputs": [
    {
     "data": {
      "text/plain": [
       "'Hello Jane Doe'"
      ]
     },
     "execution_count": 20,
     "metadata": {},
     "output_type": "execute_result"
    }
   ],
   "source": [
    "name = \"Percy\"\n",
    "def greet():\n",
    "    global name\n",
    "    name = \"Jane Doe\"\n",
    "    return (\"Hello \" + name)\n",
    "greet()"
   ]
  },
  {
   "cell_type": "code",
   "execution_count": 18,
   "metadata": {},
   "outputs": [
    {
     "data": {
      "text/plain": [
       "'Jane Doe'"
      ]
     },
     "execution_count": 18,
     "metadata": {},
     "output_type": "execute_result"
    }
   ],
   "source": [
    "name"
   ]
  }
 ],
 "metadata": {
  "kernelspec": {
   "display_name": "Python 3 (ipykernel)",
   "language": "python",
   "name": "python3"
  },
  "language_info": {
   "codemirror_mode": {
    "name": "ipython",
    "version": 3
   },
   "file_extension": ".py",
   "mimetype": "text/x-python",
   "name": "python",
   "nbconvert_exporter": "python",
   "pygments_lexer": "ipython3",
   "version": "3.9.7"
  }
 },
 "nbformat": 4,
 "nbformat_minor": 2
}
