{
 "cells": [
  {
   "cell_type": "markdown",
   "metadata": {},
   "source": [
    "# Practice Problems\n",
    "### Lecture 1\n",
    "Answer each number in a separate cell\n",
    "\n",
    "Rename this notebook with your last name, first initial and the (2 digit) lecture number. \n",
    "    \n",
    "    ex. Cych_B_01\n",
    "    \n",
    "You will turn in this notebook on Canvas. "
   ]
  },
  {
   "cell_type": "markdown",
   "metadata": {},
   "source": [
    "1. Practice with inserting cells\n",
    "    - launch jupyter notebook and make a new notebook called YOURLASTNAME_FirstInitial_PP01\n",
    "    - Insert a cell. \n",
    "    - Change it to ‘Markdown’ and type some notes. You can just type most things, but special features like Section headers, bullets, numbered lists and other fun things require special formatting. For a pretty good explanation see this link: https://github.com/adam-p/markdown-here/wiki/Markdown-Cheatsheet\n",
    "    - Run the cell to typeset your notes. If you want to change them, just double click on the cell, type away, then 'run' it again.\n",
    "\n",
    "2. Practice with markdown cells\n",
    "\n",
    "    - If you see plain text in one of the cells in the lecture notebooks, just double click on it and all will be revealed. Try double clicking on THIS cell to see how to make bulleted lists \n",
    "    - then run it.\n",
    "\n",
    "3. Practice with code cells\n",
    "\n",
    "    - Insert another cell, keeping it the default of Code.\n",
    "\n",
    "    - type in the cell: print(\"Hello World\") \n",
    "    - run that cell.\n",
    "    \n",
    "4. Commands within a jupyter notebook\n",
    "    - import the **os** package by running the cell below (don't worry about what this is doing just yet)\n",
    "    - Create a  directory called **Practice**.\n",
    "    - List the contents of the current directory. \n",
    "    - Remove the directory **Practice**. \n",
    "    - List the contents of the current directory again.\n",
    " \n",
    "5. Download your notebook by clicking on 'File' and selecting 'Download as' then choosing 'Notebook (.ipynb)'.  This will put it in your downloads folder.  \n",
    " \n",
    "\n",
    " \n",
    "\n",
    "Turn in your notebooks using Canvas. For this first lecture, you have until the end of the day on Wednesday. Make sure your notebook has the correct name.  You will recieve a zero if \n",
    "1) the notebook doesn't work. 2)  has the wrong name.  3) is turned in after the deadline.  4) you obviously copied from somebody else.  Do your own work! "
   ]
  },
  {
   "cell_type": "code",
   "execution_count": 4,
   "metadata": {
    "ExecuteTime": {
     "end_time": "2020-03-27T00:47:30.782968Z",
     "start_time": "2020-03-27T00:47:30.777547Z"
    }
   },
   "outputs": [],
   "source": [
    "import os"
   ]
  },
  {
   "cell_type": "code",
   "execution_count": null,
   "metadata": {},
   "outputs": [],
   "source": []
  }
 ],
 "metadata": {
  "kernelspec": {
   "display_name": "Python 3",
   "language": "python",
   "name": "python3"
  },
  "language_info": {
   "codemirror_mode": {
    "name": "ipython",
    "version": 3
   },
   "file_extension": ".py",
   "mimetype": "text/x-python",
   "name": "python",
   "nbconvert_exporter": "python",
   "pygments_lexer": "ipython3",
   "version": "3.6.10"
  }
 },
 "nbformat": 4,
 "nbformat_minor": 2
}
