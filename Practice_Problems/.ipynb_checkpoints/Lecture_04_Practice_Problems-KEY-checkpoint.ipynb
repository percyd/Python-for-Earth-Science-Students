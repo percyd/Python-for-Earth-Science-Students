{
 "cells": [
  {
   "cell_type": "markdown",
   "metadata": {},
   "source": [
    "# Practice Problems\n",
    "### Lecture 4\n",
    "Answer each number in a separate cell\n",
    "\n",
    "Rename this notebook with your last name and the lecture \n",
    "    \n",
    "    ex. Cych_B_04\n",
    "    \n",
    "Turn-in this notebook on Canvas."
   ]
  },
  {
   "cell_type": "markdown",
   "metadata": {},
   "source": [
    "1. Dictionaries\n",
    "    - Create a dictionary called **geology** with  the keys  “Igneous” and “Metamorphic”.  The _values_ of these keys should be  the definition of these words.\n",
    "    - Print the value for the key \"Igneous\"\n",
    "    - Add a new key-value pair “Sedimentary” with its definition.\n",
    "    - Print all of the values using the method _values( )_\n",
    "2. Conditional statements\n",
    "    - Set $x$ to 5 and $y$ to 6.  Test if they are equal using relational operators. Test if they are not equal using the relational operators.  \n",
    "    - $x$ and $y$ are not equal. Test which one is larger by using the less than and greater than relational operators.\n",
    "    - Create new variables and apply the less than or equal to and greater than or equal to relational operators to these variables.\n",
    "3. While loops \n",
    "    - Set $day$ to 1 and $fullMoon$ to 29\n",
    "    - Create a **while** loop that checks if $day$ is less than $fullMoon$. If it is, print $day$ and increment $day$ by 1\n",
    "    - If $day$ is greater than or equal to $fullMoon$, print \"Today is a full moon.\" \n",
    "4. If statements\n",
    "    -  Set a variable $oldestCrust$ to 3.5e9, $oldestSeafloor$ to 180e6, $ageEarth$ to 4.5e9, and  $ageSolarSystem$ to 4.5e9 \n",
    "    -  Create an if-else statement that compares the age of the crust with the age of the seafloor and prints out which is older \n",
    "    - Create an if-else statement that compares the age of the Earth and the age of the solar system and prints out whether or not they formed at the same time \n",
    "5. For loops\n",
    "    - create a list of mountain ranges (Himalayas, Rocky, Trans-Antarctic, Andes, Alps, Appalachians, etc.)\n",
    "    - write a **for** loop that prints out all of the elements in your list \n",
    "6. Nested loops\n",
    "    - Make a dictionary of volcanoes with the  volcano names as keys and the values as the most recent eruption: \"Mt St Helen's\":1981, 'Pinatubo':1992, 'Krakatoa':2014, 'Anak Krakatoa': 2018, 'Yellowstone':-68000, 'Kilauea':2018\"  \n",
    "    - Make a nested loop:  step through the dictionary of volcanoes. If the last eruption was within the last five years, then print 'Recent activity at ' along with the name of the volcano, otherwise print 'No recent activity at ' and the name of the volcano. "
   ]
  },
  {
   "cell_type": "code",
   "execution_count": 11,
   "metadata": {},
   "outputs": [
    {
     "name": "stdout",
     "output_type": "stream",
     "text": [
      "rocks from a melt\n",
      "rocks from erosion\n",
      "dict_values(['rocks from a melt', 'rocks that have been munged', 'rocks from erosion'])\n",
      "rocks from a melt\n",
      "rocks that have been munged\n",
      "rocks from erosion\n"
     ]
    }
   ],
   "source": [
    "#answer to question #1\n",
    "geology = {\"Igneous\":\"rocks from a melt\", 'Metamorphic':\"rocks that have been munged\"}\n",
    "print(geology['Igneous'])\n",
    "geology['Sedimentary'] = \"rocks from erosion\"\n",
    "print(geology['Sedimentary'])\n",
    "print (geology.values())\n",
    "for x in geology:\n",
    "    print (geology[x])"
   ]
  },
  {
   "cell_type": "code",
   "execution_count": 22,
   "metadata": {},
   "outputs": [
    {
     "name": "stdout",
     "output_type": "stream",
     "text": [
      "not equal\n",
      "y is greater than x\n"
     ]
    }
   ],
   "source": [
    "#answer to question #2\n",
    "x,y = 5,6\n",
    "if x == y: \n",
    "    print (\"values are equal\")\n",
    "else:\n",
    "    print(\"not equal\")\n",
    "    if (x < y):\n",
    "        print (\"x is greater than y\")\n",
    "    else: print (\"y is greater than x\")    \n",
    "    "
   ]
  },
  {
   "cell_type": "code",
   "execution_count": 25,
   "metadata": {
    "collapsed": true
   },
   "outputs": [
    {
     "name": "stdout",
     "output_type": "stream",
     "text": [
      "day 1\n",
      "day 2\n",
      "day 3\n",
      "day 4\n",
      "day 5\n",
      "day 6\n",
      "day 7\n",
      "day 8\n",
      "day 9\n",
      "day 10\n",
      "day 11\n",
      "day 12\n",
      "day 13\n",
      "day 14\n",
      "day 15\n",
      "day 16\n",
      "day 17\n",
      "day 18\n",
      "day 19\n",
      "day 20\n",
      "day 21\n",
      "day 22\n",
      "day 23\n",
      "day 24\n",
      "day 25\n",
      "day 26\n",
      "day 27\n",
      "day 28\n",
      "happy full moon\n"
     ]
    }
   ],
   "source": [
    "day = 1\n",
    "full_moon = 29\n",
    "while day <= full_moon:\n",
    "    if day >= full_moon:\n",
    "        print (\"happy full moon\")\n",
    "    else:\n",
    "        print ('day',day)\n",
    "    day +=1    "
   ]
  },
  {
   "cell_type": "code",
   "execution_count": 29,
   "metadata": {},
   "outputs": [
    {
     "name": "stdout",
     "output_type": "stream",
     "text": [
      "crust is older\n",
      "earth and solar system formed at the same time\n"
     ]
    }
   ],
   "source": [
    "𝑜𝑙𝑑𝑒𝑠𝑡𝐶𝑟𝑢𝑠𝑡 = 3.5e9\n",
    "𝑜𝑙𝑑𝑒𝑠𝑡𝑆𝑒𝑎𝑓𝑙𝑜𝑜𝑟  = 180e6\n",
    "𝑎𝑔𝑒𝐸𝑎𝑟𝑡ℎ  = 4.5e9 \n",
    "𝑎𝑔𝑒𝑆𝑜𝑙𝑎𝑟𝑆𝑦𝑠𝑡𝑒𝑚 = 4.5e9\n",
    "\n",
    "if oldestCrust > oldestSeafloor:\n",
    "    print (\"crust is older\")\n",
    "else:\n",
    "    print(\"seafloor is older\")\n",
    "if ageEarth == ageSolarSystem:\n",
    "    print(\"earth and solar system formed at the same time\")\n",
    "else:\n",
    "    print(\"they formed at different times\")"
   ]
  },
  {
   "cell_type": "code",
   "execution_count": 33,
   "metadata": {},
   "outputs": [
    {
     "name": "stdout",
     "output_type": "stream",
     "text": [
      "['Himalayas', 'Karakoram', 'Hindu Kush', 'Pamirs', 'Hengduan Mountains', 'Tian Shan', 'Kunlun', 'Transhimalaya', 'Andes', 'Hindu Raj', 'Alaska Range', 'Saint Elias Mountains', 'Caucasus Mountains']\n",
      "This range is called: Himalayas\n",
      "This range is called: Karakoram\n",
      "This range is called: Hindu Kush\n",
      "This range is called: Pamirs\n",
      "This range is called: Hengduan Mountains\n",
      "This range is called: Tian Shan\n",
      "This range is called: Kunlun\n",
      "This range is called: Transhimalaya\n",
      "This range is called: Andes\n",
      "This range is called: Hindu Raj\n",
      "This range is called: Alaska Range\n",
      "This range is called: Saint Elias Mountains\n",
      "This range is called: Caucasus Mountains\n"
     ]
    }
   ],
   "source": [
    "myranges = [\"Himalayas\",\n",
    "\"Karakoram\",\n",
    "\"Hindu Kush\",\n",
    "\"Pamirs\",\n",
    "\"Hengduan Mountains\",\n",
    "\"Tian Shan\",\n",
    "\"Kunlun\",\n",
    "\"Transhimalaya\",\n",
    "\"Andes\",\n",
    "\"Hindu Raj\",\n",
    "\"Alaska Range\",\n",
    "\"Saint Elias Mountains\",\n",
    "\"Caucasus Mountains\",]\n",
    "\n",
    "print(myranges)\n",
    "for range in myranges:\n",
    "    print (\"This range is called: \" + range)"
   ]
  },
  {
   "cell_type": "code",
   "execution_count": 48,
   "metadata": {},
   "outputs": [
    {
     "name": "stdout",
     "output_type": "stream",
     "text": [
      "41\n",
      "no recent activity at Mt St Helen's\n",
      "30\n",
      "no recent activity at Pinatubo\n",
      "8\n",
      "no recent activity at Krakatoa\n",
      "4\n",
      "Recent activity at Anak Krakatoa\n",
      "70022\n",
      "no recent activity at Yellowstone\n",
      "4\n",
      "Recent activity at Kilauea\n"
     ]
    }
   ],
   "source": [
    "volcanoes = {\"Mt St Helen's\":1981, 'Pinatubo':1992, 'Krakatoa':2014, 'Anak Krakatoa': 2018, 'Yellowstone':-68000, 'Kilauea':2018}\n",
    "now = 2022\n",
    "for volcano in volcanoes:\n",
    "    #print ((now - volcanoes[volcano]))\n",
    "    if ((now - volcanoes[volcano])) <= 5:\n",
    "        print(\"Recent activity at\",volcano)\n",
    "    else: print(\"no recent activity at\",volcano )    "
   ]
  }
 ],
 "metadata": {
  "kernelspec": {
   "display_name": "Python 3 (ipykernel)",
   "language": "python",
   "name": "python3"
  },
  "language_info": {
   "codemirror_mode": {
    "name": "ipython",
    "version": 3
   },
   "file_extension": ".py",
   "mimetype": "text/x-python",
   "name": "python",
   "nbconvert_exporter": "python",
   "pygments_lexer": "ipython3",
   "version": "3.9.7"
  }
 },
 "nbformat": 4,
 "nbformat_minor": 2
}
