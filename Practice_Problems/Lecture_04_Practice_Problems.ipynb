{
 "cells": [
  {
   "cell_type": "markdown",
   "metadata": {},
   "source": [
    "# Practice Problems\n",
    "### Lecture 4\n",
    "Answer each number in a separate cell\n",
    "\n",
    "Rename this notebook with your last name and the lecture \n",
    "    \n",
    "    ex. Cych_B_04\n",
    "    \n",
    "Turn-in this notebook on Canvas."
   ]
  },
  {
   "cell_type": "markdown",
   "metadata": {},
   "source": [
    "1. Dictionaries\n",
    "    - Create a dictionary called **geology** with  the keys  “Igneous” and “Metamorphic”.  The _values_ of these keys should be  the definition of these words.\n",
    "    - Print the value for the key \"Igneous\"\n",
    "    - Add a new key-value pair “Sedimentary” with its definition.\n",
    "    - Print all of the values using the method _values( )_\n",
    "2. Conditional statements\n",
    "    - Set $x$ to 5 and $y$ to 6.  Test if they are equal using relational operators. Test if they are not equal using the relational operators.  \n",
    "    - $x$ and $y$ are not equal. Test which one is larger by using the less than and greater than relational operators.\n",
    "    - Create new variables and apply the less than or equal to and greater than or equal to relational operators to these variables.\n",
    "3. While loops \n",
    "    - Set $day$ to 1 and $fullMoon$ to 29\n",
    "    - Create a **while** loop that checks if $day$ is less than $fullMoon$. If it is, print $day$ and increment $day$ by 1\n",
    "    - If $day$ is greater than or equal to $fullMoon$, print \"Today is a full moon.\"\n",
    "    - Does $day$ ever get there? How can you change the logic to fix this?\n",
    "4. If statements\n",
    "    -  Set a variable $oldestCrust$ to 3.5e9, $oldestSeafloor$ to 180e6, $ageEarth$ to 4.5e9, and  $ageSolarSystem$ to 4.5e9 \n",
    "    -  Create an if-else statement that compares the age of the crust with the age of the seafloor and prints out which is older \n",
    "    - Create an if-else statement that compares the age of the Earth and the age of the solar system and prints out whether or not they formed at the same time \n",
    "5. For loops\n",
    "    - create a list of mountain ranges (Himalayas, Rocky, Trans-Antarctic, Andes, Alps, Appalachians, etc.)\n",
    "    -WikiPedia has a nice list\n",
    "    - write a **for** loop that prints out all of the elements in your list for the \"for range in ranges\" style\n",
    "6. Nested loops\n",
    "    - Make a dictionary of volcanoes with the  volcano names as keys and the values as the most recent eruption: \"Mt St Helen's\":1981, 'Pinatubo':1992, 'Krakatoa':2014, 'Anak Krakatoa': 2018, 'Yellowstone':-68000, 'Kilauea':2018\"  \n",
    "    - Make a nested loop:  step through the dictionary of volcanoes. If the last eruption was within the last five years, then print 'Recent activity at ' along with the name of the volcano, otherwise print 'No recent activity at ' and the name of the volcano. "
   ]
  }
 ],
 "metadata": {
  "kernelspec": {
   "display_name": "Python 3 (ipykernel)",
   "language": "python",
   "name": "python3"
  },
  "language_info": {
   "codemirror_mode": {
    "name": "ipython",
    "version": 3
   },
   "file_extension": ".py",
   "mimetype": "text/x-python",
   "name": "python",
   "nbconvert_exporter": "python",
   "pygments_lexer": "ipython3",
   "version": "3.9.7"
  }
 },
 "nbformat": 4,
 "nbformat_minor": 2
}
